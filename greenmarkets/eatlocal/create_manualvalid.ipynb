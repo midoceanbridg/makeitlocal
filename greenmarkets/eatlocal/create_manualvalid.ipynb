{
 "cells": [
  {
   "cell_type": "code",
   "execution_count": 11,
   "metadata": {},
   "outputs": [],
   "source": [
    "import os\n",
    "os.environ['LH_GENDIR'] = 'generated_data'\n",
    "import thelocalhost.localeats_twostage\n",
    "import pickle\n",
    "import pandas as pd"
   ]
  },
  {
   "cell_type": "code",
   "execution_count": 2,
   "metadata": {},
   "outputs": [],
   "source": [
    "n = 1\n",
    "m = 1\n",
    "\n",
    "\n"
   ]
  },
  {
   "cell_type": "code",
   "execution_count": 37,
   "metadata": {},
   "outputs": [],
   "source": [
    "#\n",
    "validationDF = pd.DataFrame(columns=['title', 'OG Ingredient', 'Swapped Ingredient', 'Cosine Sim'])\n",
    "for i in range(0, len(titles), 250):#, 500\n",
    "    \n",
    "    \n",
    "    w2vm, aisledict, noise, atFM, FMinfo, ingvect, ingfeatures, fulling, recvect, recfeatures, recdoc = thelocalhost.localeats_twostage.load_data()\n",
    "    allout, wheretoshop = thelocalhost.localeats_twostage.rulesofsimilarity(current_ing, w2vm, aisledict, atFM, FMinfo) \n",
    "    thelocalhost.localeats_twostage.validationstep(allout, fulling, ingvect, ingfeatures, recvect, recfeatures, recdoc, cur_rec, FMinfo, wheretoshop)\n",
    "   \n",
    "    for out in allout:\n",
    "        if out['where_available'] is None and out['cos_sim'] is not None and out['cos_sim'] != 0:\n",
    "                validationDF = validationDF.append({'title': current_title, 'OG Ingredient': out['ingredient'],\n",
    "                                                   'Swapped Ingredient': out['match'][0], 'Cosine Sim': out['cos_sim'][0]}, ignore_index=True)\n",
    "        \n",
    "    \n",
    "        "
   ]
  },
  {
   "cell_type": "code",
   "execution_count": 38,
   "metadata": {},
   "outputs": [
    {
     "data": {
      "text/plain": [
       "(390, 4)"
      ]
     },
     "execution_count": 38,
     "metadata": {},
     "output_type": "execute_result"
    }
   ],
   "source": [
    "validationDF.shape"
   ]
  },
  {
   "cell_type": "code",
   "execution_count": 40,
   "metadata": {},
   "outputs": [],
   "source": [
    "validationDF.to_csv('../test_data/validationset_1.csv', index=False)"
   ]
  },
  {
   "cell_type": "code",
   "execution_count": 39,
   "metadata": {},
   "outputs": [
    {
     "data": {
      "text/plain": [
       "title                 # 1 Freezer Meal Easy Cheeseburger Casserole\n",
       "OG Ingredient                                          adobo sauce\n",
       "Swapped Ingredient                                         arugula\n",
       "Cosine Sim                                               0.0346256\n",
       "dtype: object"
      ]
     },
     "execution_count": 39,
     "metadata": {},
     "output_type": "execute_result"
    }
   ],
   "source": []
  },
  {
   "cell_type": "code",
   "execution_count": null,
   "metadata": {},
   "outputs": [],
   "source": []
  }
 ],
 "metadata": {
  "kernelspec": {
   "display_name": "Python 3",
   "language": "python",
   "name": "python3"
  },
  "language_info": {
   "codemirror_mode": {
    "name": "ipython",
    "version": 3
   },
   "file_extension": ".py",
   "mimetype": "text/x-python",
   "name": "python",
   "nbconvert_exporter": "python",
   "pygments_lexer": "ipython3",
   "version": "3.6.10"
  }
 },
 "nbformat": 4,
 "nbformat_minor": 4
}
