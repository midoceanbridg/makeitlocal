{
 "cells": [
  {
   "cell_type": "markdown",
   "metadata": {},
   "source": [
    "## In which i will API"
   ]
  },
  {
   "cell_type": "code",
   "execution_count": 29,
   "metadata": {},
   "outputs": [],
   "source": [
    "import requests\n",
    "from pathlib import Path\n",
    "import os"
   ]
  },
  {
   "cell_type": "code",
   "execution_count": 30,
   "metadata": {},
   "outputs": [],
   "source": [
    "mykey = open('spoonac/apikey.txt').read().strip()\n",
    "\n"
   ]
  },
  {
   "cell_type": "code",
   "execution_count": null,
   "metadata": {},
   "outputs": [
    {
     "name": "stdout",
     "output_type": "stream",
     "text": [
      "Running American\n",
      "Got all the American\n",
      "Finished ,American\n",
      "Running Southern\n",
      "Running Southern\n",
      "Running Southern\n",
      "Running Southern\n",
      "Running Southern\n",
      "Running Southern\n"
     ]
    }
   ],
   "source": [
    "#nice command for viewing files: jq . entrees0.json | less\n",
    "#nice command for keeping an eye on the program while running watch ls -l entrees\n",
    "cuisines = 'American,Southern,French,African,British,Cajun,Caribbean,Chinese,Eastern European,European,German,Greek,Indian,Irish,Italian,Japanese,Jewish,Korean,Latin American,Mediterranean,Mexican,Middle Eastern,Nordic,Spanish,Thai,Vietnamese'.split(',')\n",
    "number = 100\n",
    "\n",
    "def get_recipes(cuisine):\n",
    "    rt = f'spoonac/data/{cuisine}'\n",
    "    pages_got = Path(f'{rt}/got.csv')\n",
    "    if not pages_got.exists():\n",
    "        pages_got.parent.mkdir(parents=True, exist_ok=True) \n",
    "        with pages_got.open('w') as fh:\n",
    "            fh.write('0\\n')\n",
    "    \n",
    "    offset = pages_got.open().read().strip()\n",
    "    offset = int(offset)\n",
    "    if offset >= 900:\n",
    "        print(f'Got all the {cuisine}')\n",
    "        return 'finished'\n",
    "        \n",
    "    \n",
    "    params = {'number': str(number), 'type': 'main course', 'apiKey': mykey, 'offset': str(offset), 'cuisine': cuisine}\n",
    "    response = requests.get('https://api.spoonacular.com/recipes/complexSearch', params=params)\n",
    "    with open(f'last_results.json', 'w') as fh:\n",
    "        fh.write(response.text)\n",
    "    res = response.json()\n",
    "    \n",
    "    ids = [str(recipe['id']) for recipe in res['results']]\n",
    "    idformatted = ','.join(ids)\n",
    "    \n",
    "    params = {'apiKey': mykey, 'ids': idformatted}\n",
    "    result = requests.get(f'https://api.spoonacular.com/recipes/informationBulk/', params=params)\n",
    "    if result.status_code >= 300:\n",
    "        raise Exception(result.text)\n",
    "\n",
    "    txt = result.text\n",
    "    with open(f\"{rt}/maincourse-{offset}.json\", 'w') as fh:\n",
    "        fh.write(txt)\n",
    "    offset += len(result.json())\n",
    "\n",
    "    with open(f\"{pages_got}.new\", \"w\") as fh:\n",
    "        fh.write(f\"{offset}\\n\")\n",
    "    os.rename(f\"{pages_got}.new\", pages_got)\n",
    "\n",
    "    if res['offset']+res['number'] >= res['totalResults']:\n",
    "        return 'finished'\n",
    "    return 'running'\n",
    "    \n",
    "    \n",
    "donecuisines = open('spoonac/data/donecuisines.csv').read().strip().split(',')\n",
    "\n",
    "\n",
    "\n",
    "while True:\n",
    "    for cuisine in cuisines:\n",
    "        state = 'running'\n",
    "        while state == 'running' and cuisine not in donecuisines:\n",
    "            print(f'Running {cuisine}')\n",
    "            state = get_recipes(cuisine)\n",
    "        if state == 'finished':\n",
    "            donecuisines.append(cuisine)\n",
    "            out = ','.join(donecuisines)\n",
    "            print(f'Finished {out}')\n",
    "\n",
    "            with open('spoonac/data/donecuisines.csv', 'a') as fh:\n",
    "                fh.write(out)\n",
    "        \n",
    "    if len(donecuisines) == len(cuisines):\n",
    "        break\n",
    "    \n",
    "            \n",
    "            \n",
    "        \n",
    "    \n",
    "    \n",
    "    "
   ]
  },
  {
   "cell_type": "code",
   "execution_count": 24,
   "metadata": {},
   "outputs": [
    {
     "data": {
      "text/plain": [
       "['American',\n",
       " 'African',\n",
       " 'British',\n",
       " 'Cajun',\n",
       " 'Caribbean',\n",
       " 'Chinese',\n",
       " 'Eastern',\n",
       " 'European',\n",
       " 'European',\n",
       " 'French',\n",
       " 'German',\n",
       " 'Greek',\n",
       " 'Indian',\n",
       " 'Irish',\n",
       " 'Italian',\n",
       " 'Japanese',\n",
       " 'Jewish',\n",
       " 'Korean',\n",
       " 'Latin',\n",
       " 'American',\n",
       " 'Mediterranean',\n",
       " 'Mexican',\n",
       " 'Middle',\n",
       " 'Eastern',\n",
       " 'Nordic',\n",
       " 'Southern',\n",
       " 'Spanish',\n",
       " 'Thai',\n",
       " 'Vietnamese']"
      ]
     },
     "execution_count": 24,
     "metadata": {},
     "output_type": "execute_result"
    }
   ],
   "source": [
    "cuisines"
   ]
  },
  {
   "cell_type": "code",
   "execution_count": null,
   "metadata": {},
   "outputs": [],
   "source": [
    "result = requests.get(f'https://api.spoonacular.com/recipe/{id}')\n"
   ]
  }
 ],
 "metadata": {
  "kernelspec": {
   "display_name": "Python 3",
   "language": "python",
   "name": "python3"
  },
  "language_info": {
   "codemirror_mode": {
    "name": "ipython",
    "version": 3
   },
   "file_extension": ".py",
   "mimetype": "text/x-python",
   "name": "python",
   "nbconvert_exporter": "python",
   "pygments_lexer": "ipython3",
   "version": "3.6.10"
  }
 },
 "nbformat": 4,
 "nbformat_minor": 4
}
