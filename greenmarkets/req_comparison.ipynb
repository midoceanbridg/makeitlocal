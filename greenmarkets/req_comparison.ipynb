{
 "cells": [
  {
   "cell_type": "code",
   "execution_count": 1,
   "metadata": {},
   "outputs": [],
   "source": [
    "import requests\n",
    "from sklearn.manifold import TSNE\n",
    "import pickle\n",
    "from sklearn.feature_extraction.text import TfidfVectorizer\n",
    "from sklearn.metrics.pairwise import linear_kernel\n",
    "import numpy as np"
   ]
  },
  {
   "cell_type": "code",
   "execution_count": 2,
   "metadata": {},
   "outputs": [],
   "source": [
    "mykey = open('spoonac/apikey.txt').read().strip()\n"
   ]
  },
  {
   "cell_type": "code",
   "execution_count": 3,
   "metadata": {},
   "outputs": [],
   "source": [
    "#from the user\n",
    "userinput = 'https://www.simplyrecipes.com/recipes/chicken_piccata/'\n",
    "params = {'url': userinput, 'forceExtraction': 'true', 'apiKey': mykey, 'analyze': 'true'}"
   ]
  },
  {
   "cell_type": "code",
   "execution_count": 4,
   "metadata": {},
   "outputs": [],
   "source": [
    "#get infor about recipe they requested\n",
    "response = requests.get('https://api.spoonacular.com/recipes/extract', params=params)\n"
   ]
  },
  {
   "cell_type": "code",
   "execution_count": 40,
   "metadata": {},
   "outputs": [
    {
     "name": "stdout",
     "output_type": "stream",
     "text": [
      "['chicken breast halves flour salt ground pepper parmesan cheese extra virgin olive oil butter chicken stock lemon juice brined capers parsley']\n"
     ]
    }
   ],
   "source": [
    "#extract ingredients\n",
    "rec = response.json()\n",
    "ingcomp = rec['extendedIngredients']\n",
    "ingredients = [' '.join([ing['name'] for ing in ingcomp ])]\n",
    "\n",
    "\n",
    "\n",
    "print(repr(ingredients)) # repr is the representation \n"
   ]
  },
  {
   "cell_type": "code",
   "execution_count": 36,
   "metadata": {},
   "outputs": [
    {
     "name": "stdout",
     "output_type": "stream",
     "text": [
      "[22664 23351 23815 30977]\n",
      "[0.80380206 0.76516627 0.76319593 0.75009468]\n"
     ]
    }
   ],
   "source": [
    "vec = pickle.load(open(\"bigoven/vect.pkl\", 'rb'))\n",
    "features = pickle.load(open(\"bigoven/features.pkl\", 'rb'))\n",
    "c =['2 skinless and boneless chicken breasts, butterflied and then cut in half Sea salt and freshly ground black pepper All-purpose flour, for dredging 6 tablespoons unsalted butter 5 tablespoons extra-virgin olive oil 1/3 cup fresh lemon juice 1/2 cup chicken stock 1/4 cup brined capers, rinsed 1/3 cup fresh parsley, chopped']\n",
    "\n",
    "new_features = vec.transform(ingredients)\n",
    "\n",
    "cosine_similarities = linear_kernel(new_features, features).flatten()\n",
    "related_docs_indices = cosine_similarities.argsort()[:-5:-1]\n",
    "print(related_docs_indices)\n",
    "print(cosine_similarities[related_docs_indices])\n",
    "\n",
    "\n",
    "\n"
   ]
  },
  {
   "cell_type": "code",
   "execution_count": 52,
   "metadata": {},
   "outputs": [],
   "source": [
    "rec = pickle.load(open(\"bigoven/recipes.pkl\", 'rb'))\n"
   ]
  },
  {
   "cell_type": "code",
   "execution_count": 58,
   "metadata": {},
   "outputs": [
    {
     "name": "stdout",
     "output_type": "stream",
     "text": [
      "https://www.bigoven.com/recipe/chicken-picatta/454647\n",
      "https://www.bigoven.com/recipe/chicken-piccata/164981\n",
      "https://www.bigoven.com/recipe/chicken-piccata/194081\n",
      "https://www.bigoven.com/recipe/chicken-piccatta/187786\n"
     ]
    }
   ],
   "source": [
    "for i in related_docs_indices:\n",
    "    print(rec.iloc[i]['WebURL'])\n"
   ]
  },
  {
   "cell_type": "code",
   "execution_count": 48,
   "metadata": {},
   "outputs": [
    {
     "data": {
      "text/plain": [
       "pandas.core.series.Series"
      ]
     },
     "execution_count": 48,
     "metadata": {},
     "output_type": "execute_result"
    }
   ],
   "source": []
  },
  {
   "cell_type": "code",
   "execution_count": null,
   "metadata": {},
   "outputs": [],
   "source": []
  }
 ],
 "metadata": {
  "kernelspec": {
   "display_name": "Python 3",
   "language": "python",
   "name": "python3"
  },
  "language_info": {
   "codemirror_mode": {
    "name": "ipython",
    "version": 3
   },
   "file_extension": ".py",
   "mimetype": "text/x-python",
   "name": "python",
   "nbconvert_exporter": "python",
   "pygments_lexer": "ipython3",
   "version": "3.6.10"
  }
 },
 "nbformat": 4,
 "nbformat_minor": 4
}
