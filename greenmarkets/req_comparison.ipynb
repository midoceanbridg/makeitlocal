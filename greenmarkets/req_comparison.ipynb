{
 "cells": [
  {
   "cell_type": "code",
   "execution_count": 46,
   "metadata": {},
   "outputs": [],
   "source": [
    "import requests\n",
    "from sklearn.manifold import TSNE\n",
    "import pickle\n",
    "from sklearn.feature_extraction.text import TfidfVectorizer\n",
    "from sklearn.metrics.pairwise import linear_kernel\n",
    "import numpy as np"
   ]
  },
  {
   "cell_type": "code",
   "execution_count": 2,
   "metadata": {},
   "outputs": [],
   "source": [
    "mykey = open('spoonac/apikey.txt').read().strip()\n"
   ]
  },
  {
   "cell_type": "code",
   "execution_count": 15,
   "metadata": {},
   "outputs": [],
   "source": [
    "#from the user\n",
    "userinput = 'https://www.simplyrecipes.com/recipes/chicken_piccata/'\n",
    "params = {'url': userinput, 'forceExtraction': 'true', 'apiKey': mykey, 'analyze': 'true'}"
   ]
  },
  {
   "cell_type": "code",
   "execution_count": 16,
   "metadata": {},
   "outputs": [],
   "source": [
    "#get infor about recipe they requested\n",
    "response = requests.get('https://api.spoonacular.com/recipes/extract', params=params)\n"
   ]
  },
  {
   "cell_type": "code",
   "execution_count": 18,
   "metadata": {},
   "outputs": [],
   "source": [
    "#extract ingredients\n",
    "rec = response.json()\n",
    "ingcomp = rec['extendedIngredients']\n",
    "ingredients = [ing['name'] for ing in ingcomp ]\n",
    "\n"
   ]
  },
  {
   "cell_type": "code",
   "execution_count": 31,
   "metadata": {},
   "outputs": [
    {
     "name": "stdout",
     "output_type": "stream",
     "text": [
      "[ 10473   7916 169875 283817]\n",
      "[0.89925175 0.89925175 0.78383821 0.77294482]\n"
     ]
    }
   ],
   "source": [
    "vec = pickle.load(open(\"bigoven/vect.pkl\", 'rb'))\n",
    "features = pickle.load(open(\"bigoven/features.pkl\", 'rb'))\n",
    "\n",
    "new_features = vec.transform(ingredients)\n",
    "\n",
    "cosine_similarities = linear_kernel(new_features, features).flatten()\n",
    "related_docs_indices = cosine_similarities.argsort()[:-5:-1]\n",
    "print(related_docs_indices)\n",
    "print(cosine_similarities[related_docs_indices])\n",
    "\n",
    "\n",
    "\n"
   ]
  },
  {
   "cell_type": "code",
   "execution_count": 43,
   "metadata": {},
   "outputs": [
    {
     "data": {
      "text/plain": [
       "(32526, 46)"
      ]
     },
     "execution_count": 43,
     "metadata": {},
     "output_type": "execute_result"
    }
   ],
   "source": [
    "rec = pickle.load(open(\"bigoven/recipes.pkl\", 'rb'))\n",
    "#32526\n",
    "\n"
   ]
  },
  {
   "cell_type": "code",
   "execution_count": 47,
   "metadata": {},
   "outputs": [
    {
     "data": {
      "text/plain": [
       "357786"
      ]
     },
     "execution_count": 47,
     "metadata": {},
     "output_type": "execute_result"
    }
   ],
   "source": [
    "np.size(cosine_similarities)"
   ]
  },
  {
   "cell_type": "code",
   "execution_count": 42,
   "metadata": {},
   "outputs": [
    {
     "data": {
      "text/html": [
       "<div>\n",
       "<style scoped>\n",
       "    .dataframe tbody tr th:only-of-type {\n",
       "        vertical-align: middle;\n",
       "    }\n",
       "\n",
       "    .dataframe tbody tr th {\n",
       "        vertical-align: top;\n",
       "    }\n",
       "\n",
       "    .dataframe thead th {\n",
       "        text-align: right;\n",
       "    }\n",
       "</style>\n",
       "<table border=\"1\" class=\"dataframe\">\n",
       "  <thead>\n",
       "    <tr style=\"text-align: right;\">\n",
       "      <th></th>\n",
       "      <th>RecipeID</th>\n",
       "      <th>Title</th>\n",
       "      <th>Description</th>\n",
       "      <th>Cuisine</th>\n",
       "      <th>Category</th>\n",
       "      <th>Subcategory</th>\n",
       "      <th>Microcategory</th>\n",
       "      <th>PrimaryIngredient</th>\n",
       "      <th>StarRating</th>\n",
       "      <th>WebURL</th>\n",
       "      <th>...</th>\n",
       "      <th>IsSponsored</th>\n",
       "      <th>VariantOfRecipeID</th>\n",
       "      <th>Collection</th>\n",
       "      <th>CollectionID</th>\n",
       "      <th>AdminBoost</th>\n",
       "      <th>VerifiedDateTime</th>\n",
       "      <th>MaxImageSquare</th>\n",
       "      <th>ImageSquares</th>\n",
       "      <th>PhotoUrl</th>\n",
       "      <th>VerifiedByClass</th>\n",
       "    </tr>\n",
       "  </thead>\n",
       "  <tbody>\n",
       "  </tbody>\n",
       "</table>\n",
       "<p>0 rows × 46 columns</p>\n",
       "</div>"
      ],
      "text/plain": [
       "Empty DataFrame\n",
       "Columns: [RecipeID, Title, Description, Cuisine, Category, Subcategory, Microcategory, PrimaryIngredient, StarRating, WebURL, ImageURL, ReviewCount, MedalCount, FavoriteCount, Poster, Ingredients, Steps, Instructions, YieldNumber, YieldUnit, TotalMinutes, ActiveMinutes, NutritionInfo, IsPrivate, CreationDate, LastModified, IsBookmark, BookmarkURL, BookmarkSiteLogo, BookmarkImageURL, IsRecipeScan, MenuCount, NotesCount, AdTags, IngredientsTextBlock, AllCategoriesText, IsSponsored, VariantOfRecipeID, Collection, CollectionID, AdminBoost, VerifiedDateTime, MaxImageSquare, ImageSquares, PhotoUrl, VerifiedByClass]\n",
       "Index: []\n",
       "\n",
       "[0 rows x 46 columns]"
      ]
     },
     "execution_count": 42,
     "metadata": {},
     "output_type": "execute_result"
    }
   ],
   "source": [
    "some_value = 10473\n",
    "rec.loc[rec['RecipeID'] == some_value]"
   ]
  },
  {
   "cell_type": "code",
   "execution_count": 40,
   "metadata": {},
   "outputs": [
    {
     "data": {
      "text/plain": [
       "0          55408\n",
       "1         454423\n",
       "2          60441\n",
       "3         173104\n",
       "4         444705\n",
       "          ...   \n",
       "32521     117176\n",
       "32522     161493\n",
       "32523      39094\n",
       "32524    1214869\n",
       "32525     180110\n",
       "Name: RecipeID, Length: 32526, dtype: int64"
      ]
     },
     "execution_count": 40,
     "metadata": {},
     "output_type": "execute_result"
    }
   ],
   "source": [
    "rec['RecipeID']"
   ]
  },
  {
   "cell_type": "code",
   "execution_count": null,
   "metadata": {},
   "outputs": [],
   "source": []
  }
 ],
 "metadata": {
  "kernelspec": {
   "display_name": "Python 3",
   "language": "python",
   "name": "python3"
  },
  "language_info": {
   "codemirror_mode": {
    "name": "ipython",
    "version": 3
   },
   "file_extension": ".py",
   "mimetype": "text/x-python",
   "name": "python",
   "nbconvert_exporter": "python",
   "pygments_lexer": "ipython3",
   "version": "3.6.10"
  }
 },
 "nbformat": 4,
 "nbformat_minor": 4
}
