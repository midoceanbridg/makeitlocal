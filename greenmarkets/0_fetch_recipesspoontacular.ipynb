{
 "cells": [
  {
   "cell_type": "markdown",
   "metadata": {},
   "source": [
    "## Fetches information from Spoontacular API"
   ]
  },
  {
   "cell_type": "code",
   "execution_count": 29,
   "metadata": {},
   "outputs": [],
   "source": [
    "import requests\n",
    "from pathlib import Path\n",
    "import os"
   ]
  },
  {
   "cell_type": "code",
   "execution_count": 50,
   "metadata": {},
   "outputs": [],
   "source": [
    "mykey = open('spoonac/apikey.txt').read().strip()\n",
    "\n"
   ]
  },
  {
   "cell_type": "code",
   "execution_count": 60,
   "metadata": {},
   "outputs": [
    {
     "name": "stdout",
     "output_type": "stream",
     "text": [
      "Running Middle Eastern\n",
      "Running Middle Eastern\n",
      "Running Middle Eastern\n",
      "Running Middle Eastern\n",
      "Finished ,American,American,Southern,American,Southern,French,American,Southern,French,African,American,Southern,French,African,British,American,Southern,French,African,British,Cajun,American,Southern,French,African,British,Cajun,Caribbean,American,Southern,French,African,British,Cajun,Caribbean,Chinese,American,Southern,French,African,British,Cajun,Caribbean,Chinese,Eastern European,American,Southern,French,African,British,Cajun,Caribbean,Chinese,Eastern European,European,American,Southern,French,African,British,Cajun,Caribbean,Chinese,Eastern European,European,German,American,Southern,French,African,British,Cajun,Caribbean,Chinese,Eastern European,European,German,Greek,American,Southern,French,African,British,Cajun,Caribbean,Chinese,Eastern European,European,German,Greek,Indian,American,Southern,French,African,British,Cajun,Caribbean,Chinese,Eastern European,European,German,Greek,Indian,Irish,American,Southern,French,African,British,Cajun,Caribbean,Chinese,Eastern European,European,German,Greek,Indian,Irish,Italian,American,Southern,French,African,British,Cajun,Caribbean,Chinese,Eastern European,European,German,Greek,Indian,Irish,Italian,Japanese,American,Southern,French,African,British,Cajun,Caribbean,Chinese,Eastern European,European,German,Greek,Indian,Irish,Italian,Japanese,Jewish,American,Southern,French,African,British,Cajun,Caribbean,Chinese,Eastern European,European,German,Greek,Indian,Irish,Italian,Japanese,Jewish,Korean,American,Southern,French,African,British,Cajun,Caribbean,Chinese,Eastern European,European,German,Greek,Indian,Irish,Italian,Japanese,Jewish,Korean,Latin American,American,Southern,French,African,British,Cajun,Caribbean,Chinese,Eastern European,European,German,Greek,Indian,Irish,Italian,Japanese,Jewish,Korean,Latin American,Mediterranean,American,Southern,French,African,British,Cajun,Caribbean,Chinese,Eastern European,European,German,Greek,Indian,Irish,Italian,Japanese,Jewish,Korean,Latin American,Mediterranean,Mexican,Middle Eastern\n",
      "Running Nordic\n",
      "Running Nordic\n",
      "Finished ,American,American,Southern,American,Southern,French,American,Southern,French,African,American,Southern,French,African,British,American,Southern,French,African,British,Cajun,American,Southern,French,African,British,Cajun,Caribbean,American,Southern,French,African,British,Cajun,Caribbean,Chinese,American,Southern,French,African,British,Cajun,Caribbean,Chinese,Eastern European,American,Southern,French,African,British,Cajun,Caribbean,Chinese,Eastern European,European,American,Southern,French,African,British,Cajun,Caribbean,Chinese,Eastern European,European,German,American,Southern,French,African,British,Cajun,Caribbean,Chinese,Eastern European,European,German,Greek,American,Southern,French,African,British,Cajun,Caribbean,Chinese,Eastern European,European,German,Greek,Indian,American,Southern,French,African,British,Cajun,Caribbean,Chinese,Eastern European,European,German,Greek,Indian,Irish,American,Southern,French,African,British,Cajun,Caribbean,Chinese,Eastern European,European,German,Greek,Indian,Irish,Italian,American,Southern,French,African,British,Cajun,Caribbean,Chinese,Eastern European,European,German,Greek,Indian,Irish,Italian,Japanese,American,Southern,French,African,British,Cajun,Caribbean,Chinese,Eastern European,European,German,Greek,Indian,Irish,Italian,Japanese,Jewish,American,Southern,French,African,British,Cajun,Caribbean,Chinese,Eastern European,European,German,Greek,Indian,Irish,Italian,Japanese,Jewish,Korean,American,Southern,French,African,British,Cajun,Caribbean,Chinese,Eastern European,European,German,Greek,Indian,Irish,Italian,Japanese,Jewish,Korean,Latin American,American,Southern,French,African,British,Cajun,Caribbean,Chinese,Eastern European,European,German,Greek,Indian,Irish,Italian,Japanese,Jewish,Korean,Latin American,Mediterranean,American,Southern,French,African,British,Cajun,Caribbean,Chinese,Eastern European,European,German,Greek,Indian,Irish,Italian,Japanese,Jewish,Korean,Latin American,Mediterranean,Mexican,Middle Eastern,Nordic\n",
      "Running Spanish\n",
      "Running Spanish\n",
      "Running Spanish\n",
      "Running Spanish\n",
      "Running Spanish\n",
      "Finished ,American,American,Southern,American,Southern,French,American,Southern,French,African,American,Southern,French,African,British,American,Southern,French,African,British,Cajun,American,Southern,French,African,British,Cajun,Caribbean,American,Southern,French,African,British,Cajun,Caribbean,Chinese,American,Southern,French,African,British,Cajun,Caribbean,Chinese,Eastern European,American,Southern,French,African,British,Cajun,Caribbean,Chinese,Eastern European,European,American,Southern,French,African,British,Cajun,Caribbean,Chinese,Eastern European,European,German,American,Southern,French,African,British,Cajun,Caribbean,Chinese,Eastern European,European,German,Greek,American,Southern,French,African,British,Cajun,Caribbean,Chinese,Eastern European,European,German,Greek,Indian,American,Southern,French,African,British,Cajun,Caribbean,Chinese,Eastern European,European,German,Greek,Indian,Irish,American,Southern,French,African,British,Cajun,Caribbean,Chinese,Eastern European,European,German,Greek,Indian,Irish,Italian,American,Southern,French,African,British,Cajun,Caribbean,Chinese,Eastern European,European,German,Greek,Indian,Irish,Italian,Japanese,American,Southern,French,African,British,Cajun,Caribbean,Chinese,Eastern European,European,German,Greek,Indian,Irish,Italian,Japanese,Jewish,American,Southern,French,African,British,Cajun,Caribbean,Chinese,Eastern European,European,German,Greek,Indian,Irish,Italian,Japanese,Jewish,Korean,American,Southern,French,African,British,Cajun,Caribbean,Chinese,Eastern European,European,German,Greek,Indian,Irish,Italian,Japanese,Jewish,Korean,Latin American,American,Southern,French,African,British,Cajun,Caribbean,Chinese,Eastern European,European,German,Greek,Indian,Irish,Italian,Japanese,Jewish,Korean,Latin American,Mediterranean,American,Southern,French,African,British,Cajun,Caribbean,Chinese,Eastern European,European,German,Greek,Indian,Irish,Italian,Japanese,Jewish,Korean,Latin American,Mediterranean,Mexican,Middle Eastern,Nordic,Spanish\n",
      "Running Thai\n",
      "Running Thai\n",
      "Running Thai\n",
      "Running Thai\n",
      "Running Thai\n",
      "Running Thai\n",
      "Running Thai\n",
      "Finished ,American,American,Southern,American,Southern,French,American,Southern,French,African,American,Southern,French,African,British,American,Southern,French,African,British,Cajun,American,Southern,French,African,British,Cajun,Caribbean,American,Southern,French,African,British,Cajun,Caribbean,Chinese,American,Southern,French,African,British,Cajun,Caribbean,Chinese,Eastern European,American,Southern,French,African,British,Cajun,Caribbean,Chinese,Eastern European,European,American,Southern,French,African,British,Cajun,Caribbean,Chinese,Eastern European,European,German,American,Southern,French,African,British,Cajun,Caribbean,Chinese,Eastern European,European,German,Greek,American,Southern,French,African,British,Cajun,Caribbean,Chinese,Eastern European,European,German,Greek,Indian,American,Southern,French,African,British,Cajun,Caribbean,Chinese,Eastern European,European,German,Greek,Indian,Irish,American,Southern,French,African,British,Cajun,Caribbean,Chinese,Eastern European,European,German,Greek,Indian,Irish,Italian,American,Southern,French,African,British,Cajun,Caribbean,Chinese,Eastern European,European,German,Greek,Indian,Irish,Italian,Japanese,American,Southern,French,African,British,Cajun,Caribbean,Chinese,Eastern European,European,German,Greek,Indian,Irish,Italian,Japanese,Jewish,American,Southern,French,African,British,Cajun,Caribbean,Chinese,Eastern European,European,German,Greek,Indian,Irish,Italian,Japanese,Jewish,Korean,American,Southern,French,African,British,Cajun,Caribbean,Chinese,Eastern European,European,German,Greek,Indian,Irish,Italian,Japanese,Jewish,Korean,Latin American,American,Southern,French,African,British,Cajun,Caribbean,Chinese,Eastern European,European,German,Greek,Indian,Irish,Italian,Japanese,Jewish,Korean,Latin American,Mediterranean,American,Southern,French,African,British,Cajun,Caribbean,Chinese,Eastern European,European,German,Greek,Indian,Irish,Italian,Japanese,Jewish,Korean,Latin American,Mediterranean,Mexican,Middle Eastern,Nordic,Spanish,Thai\n",
      "Running Vietnamese\n"
     ]
    },
    {
     "name": "stdout",
     "output_type": "stream",
     "text": [
      "Running Vietnamese\n",
      "Running Vietnamese\n",
      "Finished ,American,American,Southern,American,Southern,French,American,Southern,French,African,American,Southern,French,African,British,American,Southern,French,African,British,Cajun,American,Southern,French,African,British,Cajun,Caribbean,American,Southern,French,African,British,Cajun,Caribbean,Chinese,American,Southern,French,African,British,Cajun,Caribbean,Chinese,Eastern European,American,Southern,French,African,British,Cajun,Caribbean,Chinese,Eastern European,European,American,Southern,French,African,British,Cajun,Caribbean,Chinese,Eastern European,European,German,American,Southern,French,African,British,Cajun,Caribbean,Chinese,Eastern European,European,German,Greek,American,Southern,French,African,British,Cajun,Caribbean,Chinese,Eastern European,European,German,Greek,Indian,American,Southern,French,African,British,Cajun,Caribbean,Chinese,Eastern European,European,German,Greek,Indian,Irish,American,Southern,French,African,British,Cajun,Caribbean,Chinese,Eastern European,European,German,Greek,Indian,Irish,Italian,American,Southern,French,African,British,Cajun,Caribbean,Chinese,Eastern European,European,German,Greek,Indian,Irish,Italian,Japanese,American,Southern,French,African,British,Cajun,Caribbean,Chinese,Eastern European,European,German,Greek,Indian,Irish,Italian,Japanese,Jewish,American,Southern,French,African,British,Cajun,Caribbean,Chinese,Eastern European,European,German,Greek,Indian,Irish,Italian,Japanese,Jewish,Korean,American,Southern,French,African,British,Cajun,Caribbean,Chinese,Eastern European,European,German,Greek,Indian,Irish,Italian,Japanese,Jewish,Korean,Latin American,American,Southern,French,African,British,Cajun,Caribbean,Chinese,Eastern European,European,German,Greek,Indian,Irish,Italian,Japanese,Jewish,Korean,Latin American,Mediterranean,American,Southern,French,African,British,Cajun,Caribbean,Chinese,Eastern European,European,German,Greek,Indian,Irish,Italian,Japanese,Jewish,Korean,Latin American,Mediterranean,Mexican,Middle Eastern,Nordic,Spanish,Thai,Vietnamese\n"
     ]
    },
    {
     "ename": "KeyboardInterrupt",
     "evalue": "",
     "output_type": "error",
     "traceback": [
      "\u001b[0;31m---------------------------------------------------------------------------\u001b[0m",
      "\u001b[0;31mKeyboardInterrupt\u001b[0m                         Traceback (most recent call last)",
      "\u001b[0;32m<ipython-input-60-280f028a1957>\u001b[0m in \u001b[0;36m<module>\u001b[0;34m\u001b[0m\n\u001b[1;32m     62\u001b[0m             \u001b[0mprint\u001b[0m\u001b[0;34m(\u001b[0m\u001b[0;34mf'Running {cuisine}'\u001b[0m\u001b[0;34m)\u001b[0m\u001b[0;34m\u001b[0m\u001b[0;34m\u001b[0m\u001b[0m\n\u001b[1;32m     63\u001b[0m             \u001b[0mstate\u001b[0m \u001b[0;34m=\u001b[0m \u001b[0mget_recipes\u001b[0m\u001b[0;34m(\u001b[0m\u001b[0mcuisine\u001b[0m\u001b[0;34m)\u001b[0m\u001b[0;34m\u001b[0m\u001b[0;34m\u001b[0m\u001b[0m\n\u001b[0;32m---> 64\u001b[0;31m         \u001b[0;32mif\u001b[0m \u001b[0mstate\u001b[0m \u001b[0;34m==\u001b[0m \u001b[0;34m'finished'\u001b[0m\u001b[0;34m:\u001b[0m\u001b[0;34m\u001b[0m\u001b[0;34m\u001b[0m\u001b[0m\n\u001b[0m\u001b[1;32m     65\u001b[0m             \u001b[0mdonecuisines\u001b[0m\u001b[0;34m.\u001b[0m\u001b[0mappend\u001b[0m\u001b[0;34m(\u001b[0m\u001b[0mcuisine\u001b[0m\u001b[0;34m)\u001b[0m\u001b[0;34m\u001b[0m\u001b[0;34m\u001b[0m\u001b[0m\n\u001b[1;32m     66\u001b[0m             \u001b[0mout\u001b[0m \u001b[0;34m=\u001b[0m \u001b[0;34m','\u001b[0m\u001b[0;34m.\u001b[0m\u001b[0mjoin\u001b[0m\u001b[0;34m(\u001b[0m\u001b[0mdonecuisines\u001b[0m\u001b[0;34m)\u001b[0m\u001b[0;34m\u001b[0m\u001b[0;34m\u001b[0m\u001b[0m\n",
      "\u001b[0;31mKeyboardInterrupt\u001b[0m: "
     ]
    }
   ],
   "source": [
    "#nice command for viewing files: jq . entrees0.json | less\n",
    "#nice command for keeping an eye on the program while running watch ls -l entrees\n",
    "cuisines = 'American,Southern,French,African,British,Cajun,Caribbean,Chinese,Eastern European,European,German,Greek,Indian,Irish,Italian,Japanese,Jewish,Korean,Latin American,Mediterranean,Mexican,Middle Eastern,Nordic,Spanish,Thai,Vietnamese'.split(',')\n",
    "number = 100\n",
    "\n",
    "def get_recipes(cuisine):\n",
    "    rt = f'spoonac/data/{cuisine}'\n",
    "    pages_got = Path(f'{rt}/got.csv')\n",
    "    if not pages_got.exists():\n",
    "        pages_got.parent.mkdir(parents=True, exist_ok=True) \n",
    "        with pages_got.open('w') as fh:\n",
    "            fh.write('0\\n')\n",
    "    \n",
    "    offset = pages_got.open().read().strip()\n",
    "    offset = int(offset)\n",
    "    if offset >= 900:\n",
    "        print(f'Got all the {cuisine}')\n",
    "        return 'finished'\n",
    "        \n",
    "    \n",
    "    params = {'number': str(number), 'type': 'main course', 'apiKey': mykey, 'offset': str(offset), 'cuisine': cuisine}\n",
    "    response = requests.get('https://api.spoonacular.com/recipes/complexSearch', params=params)\n",
    "    \n",
    "    numused = float(response.headers['X-API-Quota-Used'])\n",
    "    if numused >= 4499:\n",
    "        raise Exception(f'Used {numused} of 4500 points')\n",
    "    \n",
    "    with open(f'last_results.json', 'w') as fh:\n",
    "        fh.write(response.text)\n",
    "    res = response.json()\n",
    "    \n",
    "    ids = [str(recipe['id']) for recipe in res['results']]\n",
    "    idformatted = ','.join(ids)\n",
    "    \n",
    "    params = {'apiKey': mykey, 'ids': idformatted}\n",
    "    result = requests.get(f'https://api.spoonacular.com/recipes/informationBulk/', params=params)\n",
    "    if result.status_code >= 300:\n",
    "        raise Exception(result.text)\n",
    "\n",
    "    txt = result.text\n",
    "    with open(f\"{rt}/maincourse-{offset}.json\", 'w') as fh:\n",
    "        fh.write(txt)\n",
    "    offset += len(result.json())\n",
    "\n",
    "    with open(f\"{pages_got}.new\", \"w\") as fh:\n",
    "        fh.write(f\"{offset}\\n\")\n",
    "    os.rename(f\"{pages_got}.new\", pages_got)\n",
    "\n",
    "    if res['offset']+res['number'] >= res['totalResults']:\n",
    "        return 'finished'\n",
    "    return 'running'\n",
    "    \n",
    "    \n",
    "donecuisines = open('spoonac/data/donecuisines.csv').read().strip().split(',')\n",
    "\n",
    "\n",
    "\n",
    "while True:\n",
    "    for cuisine in cuisines:\n",
    "        state = 'running'\n",
    "        while state == 'running' and cuisine not in donecuisines:\n",
    "            print(f'Running {cuisine}')\n",
    "            state = get_recipes(cuisine)\n",
    "        if state == 'finished':\n",
    "            donecuisines.append(cuisine)\n",
    "            out = ','.join(donecuisines)\n",
    "            print(f'Finished {out}')\n",
    "\n",
    "            with open('spoonac/data/donecuisines.csv', 'a') as fh:\n",
    "                fh.write(out)\n",
    "        \n",
    "    if len(donecuisines) == len(cuisines):\n",
    "        break\n",
    "print('Finished all cuisines')\n",
    "    \n",
    "            \n",
    "            \n",
    "        \n",
    "    \n",
    "    \n",
    "    "
   ]
  },
  {
   "cell_type": "code",
   "execution_count": null,
   "metadata": {},
   "outputs": [],
   "source": []
  },
  {
   "cell_type": "code",
   "execution_count": 53,
   "metadata": {},
   "outputs": [
    {
     "name": "stdout",
     "output_type": "stream",
     "text": [
      "{'apiKey': 'f18bdef65484424a937f3b550fec8ce2'}\n"
     ]
    }
   ],
   "source": [
    "params = {'apiKey': mykey}\n",
    "print(params)\n",
    "result = requests.get(f'https://api.spoonacular.com/recipes/770426/information', params=params)\n"
   ]
  },
  {
   "cell_type": "code",
   "execution_count": 58,
   "metadata": {},
   "outputs": [
    {
     "data": {
      "text/plain": [
       "1.0"
      ]
     },
     "execution_count": 58,
     "metadata": {},
     "output_type": "execute_result"
    }
   ],
   "source": [
    "# for h, v in sorted(result.headers.items()):\n",
    "#     print(f\"{h}: {v}\")\n",
    "    \n",
    "# print(result.text)\n",
    "\n",
    "float(result.headers['X-API-Quota-Used'])\n"
   ]
  },
  {
   "cell_type": "code",
   "execution_count": null,
   "metadata": {},
   "outputs": [],
   "source": [
    "#X-API-Quota-Used: The number of points used in total today."
   ]
  },
  {
   "cell_type": "code",
   "execution_count": null,
   "metadata": {},
   "outputs": [],
   "source": []
  }
 ],
 "metadata": {
  "kernelspec": {
   "display_name": "Python 3",
   "language": "python",
   "name": "python3"
  },
  "language_info": {
   "codemirror_mode": {
    "name": "ipython",
    "version": 3
   },
   "file_extension": ".py",
   "mimetype": "text/x-python",
   "name": "python",
   "nbconvert_exporter": "python",
   "pygments_lexer": "ipython3",
   "version": "3.6.10"
  }
 },
 "nbformat": 4,
 "nbformat_minor": 4
}
