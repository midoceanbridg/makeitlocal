{
 "cells": [
  {
   "cell_type": "markdown",
   "metadata": {},
   "source": [
    "# Compare recipe similarity using TF-IDF, Cosine Similarity\n",
    "\n",
    "### <i> This information will be used to assess the appropriateness of the substitution </i>"
   ]
  },
  {
   "cell_type": "code",
   "execution_count": 3,
   "metadata": {},
   "outputs": [],
   "source": [
    "import pandas as pd\n",
    "import json\n",
    "from pathlib import Path\n",
    "from sklearn.manifold import TSNE\n",
    "import pickle\n",
    "from sklearn.feature_extraction.text import TfidfVectorizer\n",
    "from sklearn.metrics.pairwise import linear_kernel\n",
    "import numpy as np"
   ]
  },
  {
   "cell_type": "code",
   "execution_count": 4,
   "metadata": {},
   "outputs": [],
   "source": [
    "#Loaded from cleaned_ingredients notebook\n",
    "ingredients = pickle.load(open(\"eatlocal/generated_data/cleaned_ingredients.pkl\", 'rb'))\n",
    "instructions = pickle.load(open(\"eatlocal/generated_data/instructions.pkl\", 'rb'))\n",
    "titles = pickle.load(open(\"eatlocal/generated_data/recipetitle.pkl\", 'rb'))\n",
    "\n"
   ]
  },
  {
   "cell_type": "code",
   "execution_count": 4,
   "metadata": {},
   "outputs": [],
   "source": [
    "# Make ingredients into a list of sentences\n",
    "ingstrings = [' '.join(i) for i in ingredients]\n",
    "\n"
   ]
  },
  {
   "cell_type": "code",
   "execution_count": 5,
   "metadata": {},
   "outputs": [],
   "source": [
    "#Generated a 'document' for each recipe that includes the title, ingredients, and cooking instructions\n",
    "fulldoc = []\n",
    "for i, ing in enumerate(ingstrings):\n",
    "    fulldoc.append(titles[i] + ' ' + ing + ' ' + instructions[i])\n",
    "    \n"
   ]
  },
  {
   "cell_type": "code",
   "execution_count": 6,
   "metadata": {},
   "outputs": [],
   "source": [
    "#TFIDF on full recipes\n",
    "recvect = TfidfVectorizer(min_df=1, stop_words=\"english\")                                                                                                                                                                                                   \n",
    "recvect.fit(fulldoc)  \n",
    "recipefeatures = recvect.transform(fulldoc)\n"
   ]
  },
  {
   "cell_type": "code",
   "execution_count": 7,
   "metadata": {},
   "outputs": [],
   "source": [
    "#TFIDF on ingredients\n",
    "ingvect = TfidfVectorizer(min_df=1, stop_words=\"english\")                                                                                                                                                                                                   \n",
    "ingvect.fit(ingstrings)  \n",
    "ingredientfeatures = ingvect.transform(ingstrings)"
   ]
  },
  {
   "cell_type": "code",
   "execution_count": 10,
   "metadata": {},
   "outputs": [],
   "source": [
    "#Output data\n",
    "pickle.dump(recvect,open(\"eatlocal/generated_data/tfidfvect_recipes.pkl\",\"wb\"))\n",
    "pickle.dump(recipefeatures,open(\"eatlocal/generated_data/features_recipes.pkl\",\"wb\"))\n",
    "\n",
    "pickle.dump(ingvect,open(\"eatlocal/generated_data/tfidfvect_ingredients.pkl\",\"wb\"))\n",
    "pickle.dump(ingredientfeatures,open(\"eatlocal/generated_data/features_ingredients.pkl\",\"wb\"))\n",
    "\n",
    "\n",
    "pickle.dump(fulldoc,open(\"eatlocal/generated_data/full_recipedoc.pkl\",\"wb\"))\n",
    "\n"
   ]
  },
  {
   "cell_type": "code",
   "execution_count": 19,
   "metadata": {},
   "outputs": [],
   "source": [
    "#let's find out what the maximum and mean recipe similarity is FOI\n",
    "#another slow loop!\n",
    "topmatchloc = []\n",
    "topmatchval = []\n",
    "for feat in recipefeatures:\n",
    "    cosine_similarities = linear_kernel(feat, recipefeatures).flatten()\n",
    "    related_docs_indices = cosine_similarities.argsort()[:-5:-1]\n",
    "    topmatchloc.append(related_docs_indices[1])\n",
    "    topmatchval.append(cosine_similarities[related_docs_indices[1]])\n"
   ]
  },
  {
   "cell_type": "code",
   "execution_count": 5,
   "metadata": {},
   "outputs": [],
   "source": [
    "\n",
    "## just some cos sim info:\n",
    "print(f'Mean similarity is: {np.mean(topmatchval)} +- {np.std(topmatchval)}')\n",
    "print(f'Median similarity is: {np.median(topmatchval)}')\n",
    "print(f'Ranges from {np.min(topmatchval)} to {np.max(topmatchval)}')\n"
   ]
  },
  {
   "cell_type": "code",
   "execution_count": null,
   "metadata": {},
   "outputs": [],
   "source": []
  }
 ],
 "metadata": {
  "kernelspec": {
   "display_name": "Python 3",
   "language": "python",
   "name": "python3"
  },
  "language_info": {
   "codemirror_mode": {
    "name": "ipython",
    "version": 3
   },
   "file_extension": ".py",
   "mimetype": "text/x-python",
   "name": "python",
   "nbconvert_exporter": "python",
   "pygments_lexer": "ipython3",
   "version": "3.6.10"
  }
 },
 "nbformat": 4,
 "nbformat_minor": 4
}
