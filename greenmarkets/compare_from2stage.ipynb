{
 "cells": [
  {
   "cell_type": "code",
   "execution_count": 443,
   "metadata": {},
   "outputs": [],
   "source": [
    "import requests\n",
    "from sklearn.manifold import TSNE\n",
    "import pickle\n",
    "from sklearn.feature_extraction.text import TfidfVectorizer\n",
    "from sklearn.metrics.pairwise import linear_kernel\n",
    "import numpy as np\n",
    "import pandas as pd\n",
    "from fuzzywuzzy import fuzz, process\n"
   ]
  },
  {
   "cell_type": "code",
   "execution_count": 586,
   "metadata": {},
   "outputs": [],
   "source": [
    "#loading block\n",
    "mykey = open('spoonac/apikey.txt').read().strip()\n",
    "w2vm = pickle.load(open(\"bigoven/w2vmodel.pkl\", 'rb'))\n",
    "aisledict = pickle.load(open(\"bigoven/aisleclassification.pkl\", 'rb'))\n",
    "noise = pickle.load(open(\"bigoven/noiselist.pkl\", 'rb'))\n",
    "\n",
    "atFM = pickle.load(open(\"bigoven/FMproducts.pkl\", 'rb'))\n",
    "FMinfo = pd.read_excel('greenmarketproducts.xlsx')\n",
    "FMinfo[\"aisles\"] = FMinfo[\"aisles\"].str.lower()\n",
    "FMinfo['TYPES OF PRODUCTS AVAILABLE'] = FMinfo['TYPES OF PRODUCTS AVAILABLE'].str.lower()\n",
    "veggies = open('juneveggies.txt').read().strip()"
   ]
  },
  {
   "cell_type": "code",
   "execution_count": 604,
   "metadata": {},
   "outputs": [],
   "source": [
    "okay = FMinfo.copy()\n",
    "okay['TYPES OF PRODUCTS AVAILABLE'] = veggies \n",
    "FMinfo = FMinfo.where(FMinfo['TYPES OF PRODUCTS AVAILABLE'] != 'vegetables', okay)\n",
    "#pickle.dump(FMinfo,open(\"bigoven/FMfull.pkl\",\"wb\"))\n",
    "\n",
    "\n"
   ]
  },
  {
   "cell_type": "code",
   "execution_count": 624,
   "metadata": {},
   "outputs": [],
   "source": [
    "#from the user\n",
    "#userinput = 'https://www.simplyrecipes.com/recipes/chicken_piccata/'\n",
    "userinput = 'https://tasty.co/recipe/chicken-veggie-stir-fry' # 1\n",
    "#userinput = 'https://www.simplyrecipes.com/recipes/lasagna/'\n",
    "#userinput = 'https://www.simplyrecipes.com/recipes/potato_leek_soup/'\n",
    "#userinput = 'https://damndelicious.net/2019/08/06/easy-chicken-tacos/' # 2\n",
    "#userinput = 'https://www.thewholesomedish.com/the-best-classic-burger/'\n",
    "params = {'url': userinput, 'forceExtraction': 'true', 'apiKey': mykey, 'analyze': 'true'}"
   ]
  },
  {
   "cell_type": "code",
   "execution_count": 625,
   "metadata": {},
   "outputs": [],
   "source": [
    "#get infor about recipe they requested\n",
    "response = requests.get('https://api.spoonacular.com/recipes/extract', params=params)\n"
   ]
  },
  {
   "cell_type": "code",
   "execution_count": 626,
   "metadata": {},
   "outputs": [
    {
     "data": {
      "text/plain": [
       "['chicken breast,salt,bell pepper,broccoli florets,mushroom,oil,garlic,ginger,sesame oil,reduced sodium soy sauce,brown sugar,chicken broth,flour']"
      ]
     },
     "execution_count": 626,
     "metadata": {},
     "output_type": "execute_result"
    }
   ],
   "source": [
    "#extract ingredients from their recipe\n",
    "rec = response.json()\n",
    "ingcomp = rec['extendedIngredients']\n",
    "ingredients = [','.join([ing['name'].lower() for ing in ingcomp if ing['name'] ])] #add the stripping\n",
    "\n",
    "\n",
    "\n",
    "#print(repr(ingredients)) # repr is the representation \n",
    "ingredients"
   ]
  },
  {
   "cell_type": "code",
   "execution_count": 627,
   "metadata": {},
   "outputs": [],
   "source": [
    "#suite of deduping functions\n",
    "\n",
    "#on loading we tokenize, strip punctuation&digits&spaces and make lowercase \n",
    "\n",
    "def removenoise(input_ing):\n",
    "    noise_free_ing = []\n",
    "    print(input_ing)\n",
    "    for word in input_ing.split(','):\n",
    "        checked = []\n",
    "        splitit = word.split()\n",
    "        checked.extend(i for i in splitit if i not in noise)\n",
    "        noise_free_ing.append(' '.join(checked))\n",
    "    return noise_free_ing\n",
    "        \n"
   ]
  },
  {
   "cell_type": "code",
   "execution_count": 628,
   "metadata": {},
   "outputs": [
    {
     "name": "stdout",
     "output_type": "stream",
     "text": [
      "chicken breast,salt,bell pepper,broccoli florets,mushroom,oil,garlic,ginger,sesame oil,reduced sodium soy sauce,brown sugar,chicken broth,flour\n"
     ]
    }
   ],
   "source": [
    "#call the dedupe functions\n",
    "# nning = []\n",
    "# for i in ingredients:\n",
    "#     nning.append(removenoise(i))\n",
    "nning = removenoise(ingredients[0])\n",
    "\n",
    "    \n"
   ]
  },
  {
   "cell_type": "code",
   "execution_count": 629,
   "metadata": {},
   "outputs": [
    {
     "data": {
      "text/plain": [
       "['chicken breast',\n",
       " 'salt',\n",
       " 'bell pepper',\n",
       " 'broccoli florets',\n",
       " 'mushroom',\n",
       " 'oil',\n",
       " 'garlic',\n",
       " 'ginger',\n",
       " 'sesame oil',\n",
       " 'reduced sodium soy sauce',\n",
       " 'brown sugar',\n",
       " 'chicken broth',\n",
       " 'flour']"
      ]
     },
     "execution_count": 629,
     "metadata": {},
     "output_type": "execute_result"
    }
   ],
   "source": [
    "\n",
    "nning"
   ]
  },
  {
   "cell_type": "code",
   "execution_count": 633,
   "metadata": {
    "scrolled": true
   },
   "outputs": [
    {
     "name": "stdout",
     "output_type": "stream",
     "text": [
      "chicken breast is available at ['Abundance Acres Farm', 'Feisty Acres Inc', 'flying pig farms', 'green table farms', 'Hawthorne Valley Farm', 'Norwich Meadows Farm', \"Quattro's Game Farm\", 'Ramble Creek Farm', 'Sawkill Farm', 'Shannon Brook Farm', 'Stony Mountain Ranch', 'Sun Fed Beef and Pork', 'Violet Hill Farm', 'Yellow Bell Farm'] \n",
      "salt is not but \n",
      "bell pepper is not but \n",
      "Here is the item our algorithm thinks is most similar and is available: ['zucchini']\n",
      "\n",
      "This list of vendors often has products similar to bell pepper, try asking them: ['Alewife Farm', 'Blue Oyster Cultivation', 'breezy hill orchard', 'Brooklyn Grange Rooftop Farm', 'Bulich Mushroom Co.', 'Campo Rosso Farm', 'caradonna farms', 'Cherry Lane Farms', \"D'Attolico's Organic\", 'Down Home Acres', 'Eckerton Hill Farm', 'Element Farms Inc', 'Evolutionary Organics', 'Feisty Acres Inc', 'Fishkill Farms', 'Fledging Crow Vegetables', 'Garden of Eve Organic Farm', 'gopal farms', 'Gorzynski Ornery Farm', 'Heritage Farm at Snug Harbor Cultural Center', 'Hillrock Distillery', 'Hoeffner Farms', \"Holy Schmitt's Homemade Horseradish\", 'hudson vallue organic', 'james jurr flowers', \"keith's farm\", \"Lani's Farm\", 'Liberty Farms', 'Lucky Dog Farm', 'locut grove fruit farm', 'Migliorelli Farm', 'Mountain Sweet Berry Farm', 'northshire farm', 'Norwich Meadows Farm', 'Oak Grove Plantation', 'Orchards of Concklin', 'Phillips Farm', 'quarton farm', 'Rexcroft Farms', 'Rise & Root Farm', 'Rooted Family Farm', 'row by row farm', 'S&SO Produce Farms', 'Samascott Orchards & Nine Pin Ciderworks', 'Savoie Organic Farm', 'Shushan Valley Hydro Farm', 'Solid Ground Farm', 'Stokes Farm', 'sycamore farms', 'Tamarack Hollow Farm', 'Terhune Orchards Farm & Bakery', 'Tree-Licious Orchards & Bakery', 'Troncillito Farms', 'Two Guys From Woodbridge', 'Union Square Grassman', 'VanHouten Farms', 'Wild Yarrow Farm', 'Wilklow Orchards', 'Wood Homestead']\n",
      "\n",
      "broccoli florets is available at ['Alewife Farm', 'Central Valley Farm', 'Cherry Lane Farms', 'Down Home Acres', 'Element Farms Inc', 'Evolutionary Organics', 'Fishkill Farms', 'Fledging Crow Vegetables', 'gopal farms', 'Hoeffner Farms', \"Lani's Farm\", 'Lucky Dog Farm', 'Savoie Organic Farm', 'Solid Ground Farm', 'Stokes Farm', 'Two Guys From Woodbridge', 'Union Square Grassman', 'VanHouten Farms', 'Willow Wisp Organic Farm'] \n",
      "mushroom is available at ['Alewife Farm', 'Blue Oyster Cultivation', 'Bulich Mushroom Co.', 'Central Valley Farm', 'Cherry Lane Farms', 'Down Home Acres', 'Element Farms Inc', 'Evolutionary Organics', 'Fishkill Farms', 'Fledging Crow Vegetables', \"Gail's Farm\", 'gopal farms', 'Hoeffner Farms', \"Lani's Farm\", 'Lucky Dog Farm', 'Ramble Creek Farm', 'Savoie Organic Farm', 'Solid Ground Farm', 'Stokes Farm', 'Two Guys From Woodbridge', 'VanHouten Farms', 'Willow Wisp Organic Farm'] \n",
      "oil is available at ['Grazin Angus Acres'] \n",
      "garlic is available at [\"keith's farm\"] \n",
      "ginger is available at ['Alewife Farm', 'Central Valley Farm', 'Cherry Lane Farms', 'Down Home Acres', 'Element Farms Inc', 'Evolutionary Organics', 'Fishkill Farms', 'Fledging Crow Vegetables', 'gopal farms', 'Hoeffner Farms', \"Lani's Farm\", 'Lucky Dog Farm', 'Savoie Organic Farm', 'Solid Ground Farm', 'Stokes Farm', 'Two Guys From Woodbridge', 'VanHouten Farms', 'Willow Wisp Organic Farm'] \n",
      "sesame oil is not but \n",
      "Here is the item our algorithm thinks is most similar and is available: ['rice wine vinegar']\n",
      "\n",
      "This list of vendors often has products similar to sesame oil, try asking them: ['Kimchee Harvest / East Branch Farms']\n",
      "\n",
      "reduced sodium soy sauce is not but \n",
      "Here is the item our algorithm thinks is most similar and is available: ['chili garlic sauce']\n",
      "\n",
      "This list of vendors often has products similar to reduced sodium soy sauce, try asking them: []\n",
      "\n",
      "brown sugar is not but \n",
      "brown sugar is a baking product, which is likely in your pantry!\n",
      "chicken broth is available at ['Yellow Bell Farm'] \n",
      "flour is available at ['GrowNYC Grainstand'] \n"
     ]
    }
   ],
   "source": [
    "#go through ingredients, if theyre not available at the FM use w2v and aisle to find similar \n",
    "#available = []\n",
    "#toreplace = []\n",
    "#replacement = []\n",
    "\n",
    "output = {\n",
    "    'ingredient': None,\n",
    "    'where_available': None,\n",
    "    'unknown': None,\n",
    "    'baking': False, #true if is baking\n",
    "    'spices': False, #true if spice/seasoning\n",
    "    'spice_businesses': None,\n",
    "    'match': None,\n",
    "    'try_fresh': None,\n",
    "    'store_match': None\n",
    "}\n",
    "\n",
    "allout = []\n",
    "\n",
    "for i in nning:\n",
    "    thisout = output.copy()\n",
    "    thisout['ingredient'] = i\n",
    "    \n",
    "    highest = process.extractOne(i,atFM)\n",
    "    if highest[1] >= 90:\n",
    "        matchaisle = FMinfo.loc[FMinfo['TYPES OF PRODUCTS AVAILABLE'].str.contains(highest[0])]\n",
    "        thebiz = matchaisle['BUSINESS NAME'].tolist()\n",
    "        thisout['where_available'] = thebiz\n",
    "        print(f'{i} is available at {thebiz} ')\n",
    "        \n",
    "    else:\n",
    "        #these are unavailable ingredients\n",
    "        curaisle = aisledict.get(i)\n",
    "        \n",
    "        #use w2v to find similar ingredients\n",
    "        try:\n",
    "            similar = w2vm.wv.most_similar(i, topn=100)\n",
    "            opposite = w2vm.wv.most_similar(similar[0][0], topn=1000)\n",
    "            toreplace.append(i)\n",
    "            print(f'{i} is not but ')\n",
    "        except KeyError:\n",
    "            thisout['unknown'] = i\n",
    "            print(f'We have never heard of {i}, sorry about that')\n",
    "            continue\n",
    "            \n",
    "        #get rid of baking for now\n",
    "        if curaisle[0] is not None and curaisle[0] == 'Baking':\n",
    "            thisout['baking'] = True\n",
    "            print(f'{i} is a baking product, which is likely in your pantry!')\n",
    "            continue\n",
    "            \n",
    "        #deal with the seasoning issue\n",
    "        if curaisle[0] is not None and curaisle[0] == 'Spices and Seasonings':\n",
    "            matchaisle = FMinfo.loc[FMinfo['aisles'] == curaisle[0].lower()]\n",
    "            thebiz = matchaisle['BUSINESS NAME'].tolist()\n",
    "            #print(f'Dried Spices and and seasonings are rare, you may have this in your pantry, otherwise get fresh ones at: {thebiz}\\n')\n",
    "            thisout['spices'] = True\n",
    "            thisout['spice_businesses'] = thebiz\n",
    "            continue\n",
    "            \n",
    "        # here is thing our algorithm thinks is similar and IS available\n",
    "        item = []\n",
    "        for opp in opposite:\n",
    "            ophighest = process.extractOne(opp[0],atFM)\n",
    "            if ophighest[1] >= 90:\n",
    "                item.append(opp[0])\n",
    "                if len(item) == 1:\n",
    "                    break\n",
    "        print(f'Here is the item our algorithm thinks is most similar and is available: {item}\\n')\n",
    "        thisout['match'] = item\n",
    "        \n",
    "        # if it is something usually prepackaged, suggest making it fresh\n",
    "        if curaisle[0] == 'Pasta and Rice' or curaisle[0] == 'Canned and Jarred':\n",
    "            for sim in similar:\n",
    "                a = aisledict[sim[0]]\n",
    "                if a[0] == 'Produce':\n",
    "                    trythis = sim[0]\n",
    "                break\n",
    "            print(f'Canned/Jarred items are rare at the Market, but you can make this fresh using {trythis}\\n')\n",
    "            thisout['try_fresh'] = trythis\n",
    "                \n",
    "        if curaisle[0] is not None: \n",
    "            #if something is not available, this vendor might be able to help you\n",
    "            matchaisle = FMinfo.loc[FMinfo['aisles'] == curaisle[0].lower()]\n",
    "            thebiz = matchaisle['BUSINESS NAME'].tolist()\n",
    "            print(f'This list of vendors often has products similar to {i}, try asking them: {thebiz}\\n')\n",
    "            thisout['store_match'] = thebiz\n",
    "\n",
    "\n",
    "\n",
    "    allout.append(thisout)\n",
    "        \n",
    "        \n",
    "        \n",
    "\n",
    "            \n",
    "            \n",
    "#print(allout)\n",
    "\n"
   ]
  },
  {
   "cell_type": "code",
   "execution_count": 601,
   "metadata": {},
   "outputs": [
    {
     "data": {
      "text/plain": [
       "['Ethnic Foods;Condiments']"
      ]
     },
     "execution_count": 601,
     "metadata": {},
     "output_type": "execute_result"
    }
   ],
   "source": [
    "aisledict['reduced sodium soy sauce']"
   ]
  },
  {
   "cell_type": "code",
   "execution_count": 351,
   "metadata": {},
   "outputs": [
    {
     "name": "stdout",
     "output_type": "stream",
     "text": [
      "[('lasagna noodles', 0.9908419251441956), ('mozzarella cheese', 0.9805896282196045), ('mozzarella', 0.979179859161377), ('ziti', 0.9665677547454834), ('romano cheese', 0.9635792970657349), ('seasoning', 0.9611002802848816), ('manicotti', 0.9600947499275208), ('lasagne noodles', 0.9597089886665344), ('marinara sauce', 0.9596649408340454), ('milk mozzarella cheese', 0.9572638273239136)]\n"
     ]
    }
   ],
   "source": [
    "curing = 'lasagna noodles'\n",
    "curaisle = aisledict[curing]\n",
    "similar = w2vm.wv.most_similar(curing, topn=10)\n",
    "opposite =  w2vm.wv.most_similar(similar[0][0], topn=10)\n",
    "print(opposite)\n",
    "# thebiz = FMinfo.loc[FMinfo['aisles'] == curaisle[0].lower()]\n",
    "# bestbiz = []\n",
    "# for biz in thebiz['TYPES OF PRODUCTS AVAILABLE']:\n",
    "#     bizlist = biz.split(',')\n",
    "#     for ing in bizlist:\n",
    "#         w2vsim = w2vm.wv.similarity(opp)\n",
    "    \n",
    "#     #sm = model.similarity('france', 'spain')\n",
    "#     #similar = w2vm.wv.most_similar(i, topn=1)\n",
    "\n",
    "#     print(inbiz)\n",
    "\n",
    "\n",
    "# a\n"
   ]
  },
  {
   "cell_type": "code",
   "execution_count": 278,
   "metadata": {},
   "outputs": [
    {
     "data": {
      "text/plain": [
       "['Vegetables',\n",
       " ' Fruit',\n",
       " ' Beef',\n",
       " ' Pork',\n",
       " ' Poultry',\n",
       " ' Lamb',\n",
       " ' Salsa',\n",
       " ' pasta sauce',\n",
       " ' Marinara ']"
      ]
     },
     "execution_count": 278,
     "metadata": {},
     "output_type": "execute_result"
    }
   ],
   "source": [
    "biz.split(',')\n",
    "#w2vm.wv.similarity(curing, 'tomato sauces')"
   ]
  },
  {
   "cell_type": "code",
   "execution_count": 76,
   "metadata": {},
   "outputs": [
    {
     "data": {
      "text/plain": [
       "21"
      ]
     },
     "execution_count": 76,
     "metadata": {},
     "output_type": "execute_result"
    }
   ],
   "source": [
    "fuzz.ratio(curing, opposite[0][0])"
   ]
  },
  {
   "cell_type": "code",
   "execution_count": 280,
   "metadata": {},
   "outputs": [
    {
     "data": {
      "text/plain": [
       "True"
      ]
     },
     "execution_count": 280,
     "metadata": {},
     "output_type": "execute_result"
    }
   ],
   "source": [
    "'cheese' in atFM"
   ]
  },
  {
   "cell_type": "code",
   "execution_count": 513,
   "metadata": {},
   "outputs": [
    {
     "name": "stdout",
     "output_type": "stream",
     "text": [
      "[('bell peppers', 0.9264739751815796)]\n"
     ]
    },
    {
     "data": {
      "text/plain": [
       "[('bell pepper', 0.92647385597229),\n",
       " ('portobello mushroom cap', 0.9045850038528442),\n",
       " ('squash', 0.8921389579772949),\n",
       " ('zucchini', 0.8898555040359497),\n",
       " ('vegetable broth', 0.8821101784706116),\n",
       " ('grassfed beef', 0.8798379302024841),\n",
       " ('tomato', 0.8782333135604858),\n",
       " ('tomatoes', 0.8773675560951233),\n",
       " ('quinoa', 0.8754387497901917),\n",
       " ('brown lentils', 0.8680348992347717),\n",
       " ('mince', 0.8655365705490112),\n",
       " ('petitediced tomatoes', 0.8645636439323425),\n",
       " ('wheat couscous', 0.8637833595275879),\n",
       " ('butternut', 0.8633012771606445),\n",
       " ('beef extra', 0.8593685030937195),\n",
       " ('onions wedges', 0.855331301689148),\n",
       " ('ounces tomato paste', 0.8549329042434692),\n",
       " ('chick peas', 0.8546891808509827),\n",
       " ('orange bell pepper', 0.8528242111206055),\n",
       " ('okra', 0.8527382612228394),\n",
       " ('pinch saffron', 0.8459432125091553),\n",
       " ('steak mince', 0.8440986275672913),\n",
       " ('cherry pepper', 0.8436112999916077),\n",
       " ('roma tomatoes', 0.8423422574996948),\n",
       " ('yam', 0.8409353494644165),\n",
       " ('peppers', 0.8403393030166626),\n",
       " ('cous cous', 0.8351339101791382),\n",
       " ('spicy sausages', 0.8349864482879639),\n",
       " ('fajita mix', 0.834705650806427),\n",
       " ('chorizo', 0.834276556968689),\n",
       " ('sun tomatoes olive oil', 0.8330142498016357),\n",
       " ('portabella mushroom', 0.8325786590576172),\n",
       " ('bean', 0.8305332660675049),\n",
       " ('low sodium tomato soup', 0.8303591012954712),\n",
       " ('poblano', 0.8293774127960205),\n",
       " ('vine tomatoes', 0.8292402625083923),\n",
       " ('tomatoes added puree', 0.8276957273483276),\n",
       " ('jalepeno pepper', 0.8276233673095703),\n",
       " ('small pasta', 0.826113224029541),\n",
       " ('wheat angel hair pasta', 0.8256348967552185),\n",
       " ('link sausage', 0.825265645980835),\n",
       " ('eggplant', 0.8241339921951294),\n",
       " ('tomatoes juices', 0.8233258724212646),\n",
       " ('tomato sause', 0.8216962814331055),\n",
       " ('oz olives', 0.8199604749679565),\n",
       " ('plum tomatoes', 0.8185510039329529),\n",
       " ('passata', 0.8173583149909973),\n",
       " ('cauliflower', 0.8161395192146301),\n",
       " ('baby eggplant', 0.8151143789291382),\n",
       " ('andouille sausage', 0.8146274089813232),\n",
       " ('roasted pepper', 0.8133379220962524),\n",
       " ('tom', 0.8132825493812561),\n",
       " ('bacon fat', 0.8122705817222595),\n",
       " ('lowersalt chicken broth vegetable broth', 0.8120239973068237),\n",
       " ('zuccini', 0.8096439838409424),\n",
       " ('mild chili powder', 0.8083866834640503),\n",
       " ('tomato puree', 0.8069359660148621),\n",
       " ('lentils', 0.8065236210823059),\n",
       " ('oz tomato paste', 0.8055022954940796),\n",
       " ('fire roasted tomatoes', 0.8053975105285645),\n",
       " ('olives', 0.8045282959938049),\n",
       " ('oz tomatoes', 0.8043602705001831),\n",
       " ('thighs', 0.8040329217910767),\n",
       " ('beans', 0.8039145469665527),\n",
       " ('tomatoes oz', 0.8035747408866882),\n",
       " ('bulgur wheat', 0.8032218217849731),\n",
       " ('paella rice', 0.8031282424926758),\n",
       " ('peppers roasted', 0.8028229475021362),\n",
       " ('lentil', 0.8028192520141602),\n",
       " ('chickpea', 0.8028063178062439),\n",
       " ('sprigs basil', 0.8023171424865723),\n",
       " ('cup coconut milk', 0.8020380735397339),\n",
       " ('water chicken stock', 0.8011726140975952),\n",
       " ('corn kernels', 0.8008722066879272),\n",
       " ('carrot juice', 0.7997362613677979),\n",
       " ('uncle bens rice', 0.7986737489700317),\n",
       " ('four cheese ravioli', 0.7979093194007874),\n",
       " ('rice couscous', 0.7972076535224915),\n",
       " ('spaghetti squash', 0.795954704284668),\n",
       " ('grain lasagna noodles', 0.7952097058296204),\n",
       " ('anaheim chiles', 0.7951611280441284),\n",
       " ('pepperoncini optional', 0.7949444055557251),\n",
       " ('roasted peppers water', 0.7947466373443604),\n",
       " ('pound chuck roast', 0.7946807146072388),\n",
       " ('chickpeas', 0.7939774990081787),\n",
       " ('v juice', 0.792478084564209),\n",
       " ('beet', 0.7923645377159119),\n",
       " ('parsley cilantro', 0.7923568487167358),\n",
       " ('veggie broth', 0.7919621467590332),\n",
       " ('spicy sausage', 0.7916302680969238),\n",
       " ('onion large', 0.7905358076095581),\n",
       " ('ounces tomatoes', 0.790392279624939),\n",
       " ('kale', 0.7902222871780396),\n",
       " ('one tomatoes', 0.7901974320411682),\n",
       " ('cod filets', 0.7899602651596069),\n",
       " ('olive', 0.7898440957069397),\n",
       " ('hotpepper sauce', 0.7885907292366028),\n",
       " ('onion small onion', 0.788306713104248),\n",
       " ('tomatoes liquid', 0.7869581580162048),\n",
       " ('shellfish', 0.7867854833602905)]"
      ]
     },
     "execution_count": 513,
     "metadata": {},
     "output_type": "execute_result"
    }
   ],
   "source": [
    "aaa = w2vm.wv.most_similar('bell pepper', topn=1)\n",
    "print(aaa)\n",
    "w2vm.wv.most_similar(aaa[0][0], topn=100)\n",
    "\n",
    "#w2vm.wv.similarity"
   ]
  },
  {
   "cell_type": "code",
   "execution_count": 48,
   "metadata": {},
   "outputs": [
    {
     "data": {
      "text/plain": [
       "67"
      ]
     },
     "execution_count": 48,
     "metadata": {},
     "output_type": "execute_result"
    }
   ],
   "source": [
    "fuzz.ratio('broccoli florets', 'broccoli')"
   ]
  },
  {
   "cell_type": "code",
   "execution_count": 352,
   "metadata": {},
   "outputs": [
    {
     "data": {
      "text/plain": [
       "['Baking']"
      ]
     },
     "execution_count": 352,
     "metadata": {},
     "output_type": "execute_result"
    }
   ],
   "source": [
    "aisledict['sugar']"
   ]
  },
  {
   "cell_type": "code",
   "execution_count": 220,
   "metadata": {},
   "outputs": [
    {
     "data": {
      "text/plain": [
       "0               Alcoholic Beverages\n",
       "1                              meat\n",
       "2                           produce\n",
       "3      Nut butters, jams, and honey\n",
       "4               Alcoholic Beverages\n",
       "                   ...             \n",
       "133                         produce\n",
       "134    nut butters, Jams, and Honey\n",
       "135                         produce\n",
       "136                            meat\n",
       "137               canned and jarred\n",
       "Name: aisles, Length: 138, dtype: object"
      ]
     },
     "execution_count": 220,
     "metadata": {},
     "output_type": "execute_result"
    }
   ],
   "source": [
    "FMinfo['aisles']"
   ]
  },
  {
   "cell_type": "code",
   "execution_count": 258,
   "metadata": {},
   "outputs": [
    {
     "data": {
      "text/html": [
       "<div>\n",
       "<style scoped>\n",
       "    .dataframe tbody tr th:only-of-type {\n",
       "        vertical-align: middle;\n",
       "    }\n",
       "\n",
       "    .dataframe tbody tr th {\n",
       "        vertical-align: top;\n",
       "    }\n",
       "\n",
       "    .dataframe thead th {\n",
       "        text-align: right;\n",
       "    }\n",
       "</style>\n",
       "<table border=\"1\" class=\"dataframe\">\n",
       "  <thead>\n",
       "    <tr style=\"text-align: right;\">\n",
       "      <th></th>\n",
       "      <th>BUSINESS NAME</th>\n",
       "      <th>TYPES OF PRODUCTS AVAILABLE</th>\n",
       "      <th>aisles</th>\n",
       "    </tr>\n",
       "  </thead>\n",
       "  <tbody>\n",
       "    <tr>\n",
       "      <th>26</th>\n",
       "      <td>City Saucery</td>\n",
       "      <td>Tomato Sauces, Canned Tomatoes, Pickles,  Pasta</td>\n",
       "      <td>pasta and rice</td>\n",
       "    </tr>\n",
       "    <tr>\n",
       "      <th>49</th>\n",
       "      <td>GrowNYC Grainstand</td>\n",
       "      <td>grains, flour, beans, pasta</td>\n",
       "      <td>pasta and rice</td>\n",
       "    </tr>\n",
       "    <tr>\n",
       "      <th>63</th>\n",
       "      <td>Knoll Krest Farm</td>\n",
       "      <td>Eggs, Pasta</td>\n",
       "      <td>pasta and rice</td>\n",
       "    </tr>\n",
       "    <tr>\n",
       "      <th>85</th>\n",
       "      <td>Ox Hollow Farm</td>\n",
       "      <td>Vegetables, Fruit, Beef, Pork, Poultry, Lamb, ...</td>\n",
       "      <td>pasta and rice</td>\n",
       "    </tr>\n",
       "  </tbody>\n",
       "</table>\n",
       "</div>"
      ],
      "text/plain": [
       "         BUSINESS NAME                        TYPES OF PRODUCTS AVAILABLE  \\\n",
       "26        City Saucery    Tomato Sauces, Canned Tomatoes, Pickles,  Pasta   \n",
       "49  GrowNYC Grainstand                        grains, flour, beans, pasta   \n",
       "63    Knoll Krest Farm                                        Eggs, Pasta   \n",
       "85      Ox Hollow Farm  Vegetables, Fruit, Beef, Pork, Poultry, Lamb, ...   \n",
       "\n",
       "            aisles  \n",
       "26  pasta and rice  \n",
       "49  pasta and rice  \n",
       "63  pasta and rice  \n",
       "85  pasta and rice  "
      ]
     },
     "execution_count": 258,
     "metadata": {},
     "output_type": "execute_result"
    }
   ],
   "source": [
    "#FMinfo['aisles'].loc\n",
    "a"
   ]
  },
  {
   "cell_type": "code",
   "execution_count": 257,
   "metadata": {},
   "outputs": [],
   "source": [
    "curaisle[0]"
   ]
  },
  {
   "cell_type": "code",
   "execution_count": 353,
   "metadata": {},
   "outputs": [],
   "source": [
    "curaisle = 'Baking'"
   ]
  },
  {
   "cell_type": "code",
   "execution_count": 354,
   "metadata": {},
   "outputs": [
    {
     "data": {
      "text/html": [
       "<div>\n",
       "<style scoped>\n",
       "    .dataframe tbody tr th:only-of-type {\n",
       "        vertical-align: middle;\n",
       "    }\n",
       "\n",
       "    .dataframe tbody tr th {\n",
       "        vertical-align: top;\n",
       "    }\n",
       "\n",
       "    .dataframe thead th {\n",
       "        text-align: right;\n",
       "    }\n",
       "</style>\n",
       "<table border=\"1\" class=\"dataframe\">\n",
       "  <thead>\n",
       "    <tr style=\"text-align: right;\">\n",
       "      <th></th>\n",
       "      <th>BUSINESS NAME</th>\n",
       "      <th>TYPES OF PRODUCTS AVAILABLE</th>\n",
       "      <th>aisles</th>\n",
       "    </tr>\n",
       "  </thead>\n",
       "  <tbody>\n",
       "  </tbody>\n",
       "</table>\n",
       "</div>"
      ],
      "text/plain": [
       "Empty DataFrame\n",
       "Columns: [BUSINESS NAME, TYPES OF PRODUCTS AVAILABLE, aisles]\n",
       "Index: []"
      ]
     },
     "execution_count": 354,
     "metadata": {},
     "output_type": "execute_result"
    }
   ],
   "source": [
    "matchaisle = FMinfo.loc[FMinfo['aisles'] == curaisle.lower()]\n",
    "matchaisle\n"
   ]
  },
  {
   "cell_type": "code",
   "execution_count": 347,
   "metadata": {},
   "outputs": [
    {
     "data": {
      "text/plain": [
       "'spices and seasonings'"
      ]
     },
     "execution_count": 347,
     "metadata": {},
     "output_type": "execute_result"
    }
   ],
   "source": [
    "curaisle.lower()"
   ]
  },
  {
   "cell_type": "code",
   "execution_count": 370,
   "metadata": {},
   "outputs": [
    {
     "ename": "AttributeError",
     "evalue": "'Series' object has no attribute 'split'",
     "output_type": "error",
     "traceback": [
      "\u001b[0;31m---------------------------------------------------------------------------\u001b[0m",
      "\u001b[0;31mAttributeError\u001b[0m                            Traceback (most recent call last)",
      "\u001b[0;32m<ipython-input-370-a58f8e67a196>\u001b[0m in \u001b[0;36m<module>\u001b[0;34m\u001b[0m\n\u001b[0;32m----> 1\u001b[0;31m \u001b[0mmatchaisle\u001b[0m \u001b[0;34m=\u001b[0m \u001b[0mFMinfo\u001b[0m\u001b[0;34m.\u001b[0m\u001b[0mloc\u001b[0m\u001b[0;34m[\u001b[0m\u001b[0mFMinfo\u001b[0m\u001b[0;34m[\u001b[0m\u001b[0;34m'TYPES OF PRODUCTS AVAILABLE'\u001b[0m\u001b[0;34m]\u001b[0m\u001b[0;34m.\u001b[0m\u001b[0msplit\u001b[0m\u001b[0;34m(\u001b[0m\u001b[0;34m','\u001b[0m\u001b[0;34m)\u001b[0m \u001b[0;34m==\u001b[0m \u001b[0;34m'beef'\u001b[0m\u001b[0;34m]\u001b[0m\u001b[0;34m\u001b[0m\u001b[0;34m\u001b[0m\u001b[0m\n\u001b[0m\u001b[1;32m      2\u001b[0m \u001b[0mmatchaisle\u001b[0m\u001b[0;34m\u001b[0m\u001b[0;34m\u001b[0m\u001b[0m\n",
      "\u001b[0;32m/opt/anaconda3/envs/insight/lib/python3.6/site-packages/pandas/core/generic.py\u001b[0m in \u001b[0;36m__getattr__\u001b[0;34m(self, name)\u001b[0m\n\u001b[1;32m   5272\u001b[0m             \u001b[0;32mif\u001b[0m \u001b[0mself\u001b[0m\u001b[0;34m.\u001b[0m\u001b[0m_info_axis\u001b[0m\u001b[0;34m.\u001b[0m\u001b[0m_can_hold_identifiers_and_holds_name\u001b[0m\u001b[0;34m(\u001b[0m\u001b[0mname\u001b[0m\u001b[0;34m)\u001b[0m\u001b[0;34m:\u001b[0m\u001b[0;34m\u001b[0m\u001b[0;34m\u001b[0m\u001b[0m\n\u001b[1;32m   5273\u001b[0m                 \u001b[0;32mreturn\u001b[0m \u001b[0mself\u001b[0m\u001b[0;34m[\u001b[0m\u001b[0mname\u001b[0m\u001b[0;34m]\u001b[0m\u001b[0;34m\u001b[0m\u001b[0;34m\u001b[0m\u001b[0m\n\u001b[0;32m-> 5274\u001b[0;31m             \u001b[0;32mreturn\u001b[0m \u001b[0mobject\u001b[0m\u001b[0;34m.\u001b[0m\u001b[0m__getattribute__\u001b[0m\u001b[0;34m(\u001b[0m\u001b[0mself\u001b[0m\u001b[0;34m,\u001b[0m \u001b[0mname\u001b[0m\u001b[0;34m)\u001b[0m\u001b[0;34m\u001b[0m\u001b[0;34m\u001b[0m\u001b[0m\n\u001b[0m\u001b[1;32m   5275\u001b[0m \u001b[0;34m\u001b[0m\u001b[0m\n\u001b[1;32m   5276\u001b[0m     \u001b[0;32mdef\u001b[0m \u001b[0m__setattr__\u001b[0m\u001b[0;34m(\u001b[0m\u001b[0mself\u001b[0m\u001b[0;34m,\u001b[0m \u001b[0mname\u001b[0m\u001b[0;34m:\u001b[0m \u001b[0mstr\u001b[0m\u001b[0;34m,\u001b[0m \u001b[0mvalue\u001b[0m\u001b[0;34m)\u001b[0m \u001b[0;34m->\u001b[0m \u001b[0;32mNone\u001b[0m\u001b[0;34m:\u001b[0m\u001b[0;34m\u001b[0m\u001b[0;34m\u001b[0m\u001b[0m\n",
      "\u001b[0;31mAttributeError\u001b[0m: 'Series' object has no attribute 'split'"
     ]
    }
   ],
   "source": [
    "matchaisle = FMinfo.loc[FMinfo['TYPES OF PRODUCTS AVAILABLE'].split(',') == 'beef']\n",
    "matchaisle"
   ]
  },
  {
   "cell_type": "code",
   "execution_count": 385,
   "metadata": {},
   "outputs": [
    {
     "ename": "AttributeError",
     "evalue": "'Series' object has no attribute 'strcontains'",
     "output_type": "error",
     "traceback": [
      "\u001b[0;31m---------------------------------------------------------------------------\u001b[0m",
      "\u001b[0;31mAttributeError\u001b[0m                            Traceback (most recent call last)",
      "\u001b[0;32m<ipython-input-385-87dddcf5c973>\u001b[0m in \u001b[0;36m<module>\u001b[0;34m\u001b[0m\n\u001b[0;32m----> 1\u001b[0;31m \u001b[0mFMinfo\u001b[0m\u001b[0;34m.\u001b[0m\u001b[0mloc\u001b[0m\u001b[0;34m[\u001b[0m\u001b[0mFMinfo\u001b[0m\u001b[0;34m[\u001b[0m\u001b[0;34m'TYPES OF PRODUCTS AVAILABLE'\u001b[0m\u001b[0;34m]\u001b[0m\u001b[0;34m.\u001b[0m\u001b[0mstrcontains\u001b[0m\u001b[0;34m(\u001b[0m\u001b[0;34m'beef'\u001b[0m\u001b[0;34m)\u001b[0m\u001b[0;34m]\u001b[0m\u001b[0;34m\u001b[0m\u001b[0;34m\u001b[0m\u001b[0m\n\u001b[0m",
      "\u001b[0;32m/opt/anaconda3/envs/insight/lib/python3.6/site-packages/pandas/core/generic.py\u001b[0m in \u001b[0;36m__getattr__\u001b[0;34m(self, name)\u001b[0m\n\u001b[1;32m   5272\u001b[0m             \u001b[0;32mif\u001b[0m \u001b[0mself\u001b[0m\u001b[0;34m.\u001b[0m\u001b[0m_info_axis\u001b[0m\u001b[0;34m.\u001b[0m\u001b[0m_can_hold_identifiers_and_holds_name\u001b[0m\u001b[0;34m(\u001b[0m\u001b[0mname\u001b[0m\u001b[0;34m)\u001b[0m\u001b[0;34m:\u001b[0m\u001b[0;34m\u001b[0m\u001b[0;34m\u001b[0m\u001b[0m\n\u001b[1;32m   5273\u001b[0m                 \u001b[0;32mreturn\u001b[0m \u001b[0mself\u001b[0m\u001b[0;34m[\u001b[0m\u001b[0mname\u001b[0m\u001b[0;34m]\u001b[0m\u001b[0;34m\u001b[0m\u001b[0;34m\u001b[0m\u001b[0m\n\u001b[0;32m-> 5274\u001b[0;31m             \u001b[0;32mreturn\u001b[0m \u001b[0mobject\u001b[0m\u001b[0;34m.\u001b[0m\u001b[0m__getattribute__\u001b[0m\u001b[0;34m(\u001b[0m\u001b[0mself\u001b[0m\u001b[0;34m,\u001b[0m \u001b[0mname\u001b[0m\u001b[0;34m)\u001b[0m\u001b[0;34m\u001b[0m\u001b[0;34m\u001b[0m\u001b[0m\n\u001b[0m\u001b[1;32m   5275\u001b[0m \u001b[0;34m\u001b[0m\u001b[0m\n\u001b[1;32m   5276\u001b[0m     \u001b[0;32mdef\u001b[0m \u001b[0m__setattr__\u001b[0m\u001b[0;34m(\u001b[0m\u001b[0mself\u001b[0m\u001b[0;34m,\u001b[0m \u001b[0mname\u001b[0m\u001b[0;34m:\u001b[0m \u001b[0mstr\u001b[0m\u001b[0;34m,\u001b[0m \u001b[0mvalue\u001b[0m\u001b[0;34m)\u001b[0m \u001b[0;34m->\u001b[0m \u001b[0;32mNone\u001b[0m\u001b[0;34m:\u001b[0m\u001b[0;34m\u001b[0m\u001b[0;34m\u001b[0m\u001b[0m\n",
      "\u001b[0;31mAttributeError\u001b[0m: 'Series' object has no attribute 'strcontains'"
     ]
    }
   ],
   "source": [
    "FMinfo.loc[FMinfo['TYPES OF PRODUCTS AVAILABLE'].strcontains('beef')]"
   ]
  },
  {
   "cell_type": "code",
   "execution_count": 450,
   "metadata": {},
   "outputs": [],
   "source": [
    "highest = 'tomato sauces'\n",
    "matchaisle = FMinfo.loc[FMinfo['TYPES OF PRODUCTS AVAILABLE'].str.contains(highest)]\n"
   ]
  },
  {
   "cell_type": "code",
   "execution_count": 467,
   "metadata": {},
   "outputs": [
    {
     "ename": "TypeError",
     "evalue": "'dict' object is not callable",
     "output_type": "error",
     "traceback": [
      "\u001b[0;31m---------------------------------------------------------------------------\u001b[0m",
      "\u001b[0;31mTypeError\u001b[0m                                 Traceback (most recent call last)",
      "\u001b[0;32m<ipython-input-467-6f0cba94e088>\u001b[0m in \u001b[0;36m<module>\u001b[0;34m\u001b[0m\n\u001b[0;32m----> 1\u001b[0;31m \u001b[0maisledict\u001b[0m\u001b[0;34m(\u001b[0m\u001b[0;34m'seasoning'\u001b[0m\u001b[0;34m)\u001b[0m\u001b[0;34m\u001b[0m\u001b[0;34m\u001b[0m\u001b[0m\n\u001b[0m",
      "\u001b[0;31mTypeError\u001b[0m: 'dict' object is not callable"
     ]
    }
   ],
   "source": [
    "aisledict('seasoning')"
   ]
  },
  {
   "cell_type": "code",
   "execution_count": 390,
   "metadata": {},
   "outputs": [
    {
     "data": {
      "text/plain": [
       "[('olive oil', 0.9594991207122803),\n",
       " ('pine nuts', 0.9251871109008789),\n",
       " ('kalamata olives', 0.9077877998352051),\n",
       " ('caper', 0.901020884513855),\n",
       " ('plum tomatoes', 0.9004257917404175),\n",
       " ('extravirgin olive oil', 0.8953660726547241),\n",
       " ('parsley cilantro', 0.8888424634933472),\n",
       " ('feta cheese', 0.8852983713150024),\n",
       " ('mild turkey sausage', 0.8838472366333008),\n",
       " ('cherry tomatoes', 0.8764583468437195)]"
      ]
     },
     "execution_count": 390,
     "metadata": {},
     "output_type": "execute_result"
    }
   ],
   "source": [
    "w2vm.wv.most_similar('extra virgin olive oil')\n",
    "\n",
    "'olive oil' in atFM"
   ]
  },
  {
   "cell_type": "code",
   "execution_count": 395,
   "metadata": {},
   "outputs": [
    {
     "data": {
      "text/plain": [
       "('gin', 90)"
      ]
     },
     "execution_count": 395,
     "metadata": {},
     "output_type": "execute_result"
    }
   ],
   "source": [
    "process.extractOne('extra virgin olive oil',atFM)"
   ]
  },
  {
   "cell_type": "code",
   "execution_count": 420,
   "metadata": {},
   "outputs": [
    {
     "ename": "AttributeError",
     "evalue": "'DataFrame' object has no attribute 'str'",
     "output_type": "error",
     "traceback": [
      "\u001b[0;31m---------------------------------------------------------------------------\u001b[0m",
      "\u001b[0;31mAttributeError\u001b[0m                            Traceback (most recent call last)",
      "\u001b[0;32m<ipython-input-420-083e18907689>\u001b[0m in \u001b[0;36m<module>\u001b[0;34m\u001b[0m\n\u001b[0;32m----> 1\u001b[0;31m \u001b[0mFMinfo\u001b[0m\u001b[0;34m.\u001b[0m\u001b[0mstr\u001b[0m\u001b[0;34m.\u001b[0m\u001b[0mlower\u001b[0m\u001b[0;34m(\u001b[0m\u001b[0;34m)\u001b[0m\u001b[0;34m\u001b[0m\u001b[0;34m\u001b[0m\u001b[0m\n\u001b[0m",
      "\u001b[0;32m/opt/anaconda3/envs/insight/lib/python3.6/site-packages/pandas/core/generic.py\u001b[0m in \u001b[0;36m__getattr__\u001b[0;34m(self, name)\u001b[0m\n\u001b[1;32m   5272\u001b[0m             \u001b[0;32mif\u001b[0m \u001b[0mself\u001b[0m\u001b[0;34m.\u001b[0m\u001b[0m_info_axis\u001b[0m\u001b[0;34m.\u001b[0m\u001b[0m_can_hold_identifiers_and_holds_name\u001b[0m\u001b[0;34m(\u001b[0m\u001b[0mname\u001b[0m\u001b[0;34m)\u001b[0m\u001b[0;34m:\u001b[0m\u001b[0;34m\u001b[0m\u001b[0;34m\u001b[0m\u001b[0m\n\u001b[1;32m   5273\u001b[0m                 \u001b[0;32mreturn\u001b[0m \u001b[0mself\u001b[0m\u001b[0;34m[\u001b[0m\u001b[0mname\u001b[0m\u001b[0;34m]\u001b[0m\u001b[0;34m\u001b[0m\u001b[0;34m\u001b[0m\u001b[0m\n\u001b[0;32m-> 5274\u001b[0;31m             \u001b[0;32mreturn\u001b[0m \u001b[0mobject\u001b[0m\u001b[0;34m.\u001b[0m\u001b[0m__getattribute__\u001b[0m\u001b[0;34m(\u001b[0m\u001b[0mself\u001b[0m\u001b[0;34m,\u001b[0m \u001b[0mname\u001b[0m\u001b[0;34m)\u001b[0m\u001b[0;34m\u001b[0m\u001b[0;34m\u001b[0m\u001b[0m\n\u001b[0m\u001b[1;32m   5275\u001b[0m \u001b[0;34m\u001b[0m\u001b[0m\n\u001b[1;32m   5276\u001b[0m     \u001b[0;32mdef\u001b[0m \u001b[0m__setattr__\u001b[0m\u001b[0;34m(\u001b[0m\u001b[0mself\u001b[0m\u001b[0;34m,\u001b[0m \u001b[0mname\u001b[0m\u001b[0;34m:\u001b[0m \u001b[0mstr\u001b[0m\u001b[0;34m,\u001b[0m \u001b[0mvalue\u001b[0m\u001b[0;34m)\u001b[0m \u001b[0;34m->\u001b[0m \u001b[0;32mNone\u001b[0m\u001b[0;34m:\u001b[0m\u001b[0;34m\u001b[0m\u001b[0;34m\u001b[0m\u001b[0m\n",
      "\u001b[0;31mAttributeError\u001b[0m: 'DataFrame' object has no attribute 'str'"
     ]
    }
   ],
   "source": [
    "FMinfo['TYPES OF PRODUCTS AVAILABLE'].str.lower()"
   ]
  },
  {
   "cell_type": "code",
   "execution_count": null,
   "metadata": {},
   "outputs": [],
   "source": []
  }
 ],
 "metadata": {
  "kernelspec": {
   "display_name": "Python 3",
   "language": "python",
   "name": "python3"
  },
  "language_info": {
   "codemirror_mode": {
    "name": "ipython",
    "version": 3
   },
   "file_extension": ".py",
   "mimetype": "text/x-python",
   "name": "python",
   "nbconvert_exporter": "python",
   "pygments_lexer": "ipython3",
   "version": "3.6.10"
  }
 },
 "nbformat": 4,
 "nbformat_minor": 4
}
