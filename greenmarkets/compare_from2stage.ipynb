{
 "cells": [
  {
   "cell_type": "code",
   "execution_count": 1,
   "metadata": {},
   "outputs": [],
   "source": [
    "import requests\n",
    "from sklearn.manifold import TSNE\n",
    "import pickle\n",
    "from sklearn.feature_extraction.text import TfidfVectorizer\n",
    "from sklearn.metrics.pairwise import linear_kernel\n",
    "import numpy as np\n",
    "import pandas as pd\n"
   ]
  },
  {
   "cell_type": "code",
   "execution_count": 27,
   "metadata": {},
   "outputs": [],
   "source": [
    "#loading block\n",
    "mykey = open('spoonac/apikey.txt').read().strip()\n",
    "w2vm = pickle.load(open(\"bigoven/w2vmodel.pkl\", 'rb'))\n",
    "aisledict = pickle.load(open(\"bigoven/aisleclassification.pkl\", 'rb'))\n",
    "noise = pickle.load(open(\"bigoven/noiselist.pkl\", 'rb'))\n",
    "atFM = pickle.load(open(\"bigoven/FMproducts.pkl\", 'rb'))\n",
    "\n"
   ]
  },
  {
   "cell_type": "code",
   "execution_count": 3,
   "metadata": {},
   "outputs": [],
   "source": [
    "#from the user\n",
    "userinput = 'https://www.simplyrecipes.com/recipes/chicken_piccata/'\n",
    "params = {'url': userinput, 'forceExtraction': 'true', 'apiKey': mykey, 'analyze': 'true'}"
   ]
  },
  {
   "cell_type": "code",
   "execution_count": 4,
   "metadata": {},
   "outputs": [],
   "source": [
    "#get infor about recipe they requested\n",
    "response = requests.get('https://api.spoonacular.com/recipes/extract', params=params)\n"
   ]
  },
  {
   "cell_type": "code",
   "execution_count": 37,
   "metadata": {},
   "outputs": [
    {
     "data": {
      "text/plain": [
       "['chicken breast halves,flour,salt,ground pepper,parmesan cheese,extra virgin olive oil,butter,chicken stock,lemon juice,brined capers,parsley']"
      ]
     },
     "execution_count": 37,
     "metadata": {},
     "output_type": "execute_result"
    }
   ],
   "source": [
    "#extract ingredients from their recipe\n",
    "rec = response.json()\n",
    "ingcomp = rec['extendedIngredients']\n",
    "ingredients = [','.join([ing['name'].lower() for ing in ingcomp ])] #add the stripping\n",
    "\n",
    "\n",
    "\n",
    "#print(repr(ingredients)) # repr is the representation \n",
    "ingredients"
   ]
  },
  {
   "cell_type": "code",
   "execution_count": 41,
   "metadata": {},
   "outputs": [],
   "source": [
    "#suite of deduping functions\n",
    "\n",
    "#on loading we tokenize, strip punctuation&digits&spaces and make lowercase \n",
    "\n",
    "def removenoise(input_ing):\n",
    "    noise_free_ing = []\n",
    "    for word in input_ing.split(','):\n",
    "        checked = []\n",
    "        splitit = word.split()\n",
    "        checked.extend(i for i in splitit if i not in noise)\n",
    "        noise_free_ing.append(' '.join(checked))\n",
    "    return noise_free_ing\n",
    "        \n",
    "#stem? lemmatize? part of speech tagging? stop words? synonym finding (https://wordnet.princeton.edu/)? pantry?\n",
    "    "
   ]
  },
  {
   "cell_type": "code",
   "execution_count": 48,
   "metadata": {},
   "outputs": [],
   "source": [
    "#call the dedupe functions\n",
    "nning = []\n",
    "for i in ingredients:\n",
    "    nning.append(removenoise(i))\n",
    "\n"
   ]
  },
  {
   "cell_type": "code",
   "execution_count": 49,
   "metadata": {},
   "outputs": [
    {
     "data": {
      "text/plain": [
       "[['chicken breast halves',\n",
       "  'flour',\n",
       "  'salt',\n",
       "  'pepper',\n",
       "  'parmesan cheese',\n",
       "  'extra virgin olive oil',\n",
       "  'butter',\n",
       "  'chicken stock',\n",
       "  'lemon juice',\n",
       "  'brined capers',\n",
       "  'parsley']]"
      ]
     },
     "execution_count": 49,
     "metadata": {},
     "output_type": "execute_result"
    }
   ],
   "source": [
    "nning"
   ]
  },
  {
   "cell_type": "code",
   "execution_count": 110,
   "metadata": {},
   "outputs": [
    {
     "name": "stdout",
     "output_type": "stream",
     "text": [
      "Replacing chicken breast halves with slab bacon\n",
      "Replacing salt with mustard powder\n",
      "Replacing pepper with onion salt\n",
      "Replacing parmesan cheese with fontina cheese\n",
      "Replacing extra virgin olive oil with extravirgin olive oil\n",
      "Replacing chicken stock with turkey stock\n",
      "Replacing lemon juice with raspberries\n",
      "Replacing brined capers with chanterelle mushrooms\n"
     ]
    }
   ],
   "source": [
    "#go through ingredients, if theyre not available at the FM use w2v and aisle to find similar \n",
    "available = []\n",
    "toreplace = []\n",
    "replacement = []\n",
    "for i in nning[0]:\n",
    "    if i in atFM:\n",
    "        available.append(i)\n",
    "    else:    \n",
    "        toreplace.append(i)\n",
    "        curaisle = aisledict[i]\n",
    "        similar = w2vm.wv.most_similar(i, topn=1)\n",
    "        opposite = w2vm.wv.most_similar(similar, topn=100)\n",
    "        for opp in opposite:\n",
    "            if opp[0] != i:\n",
    "               # print(opp[0] , i)\n",
    "                oppaisle = aisledict[opp[0]]\n",
    "                if oppaisle == curaisle:\n",
    "                    replacement.append(opp)\n",
    "                    break\n",
    "        print('Replacing ' + i + ' with ' + opp[0])    \n",
    "            \n",
    "            \n",
    "\n",
    "\n"
   ]
  },
  {
   "cell_type": "code",
   "execution_count": 117,
   "metadata": {},
   "outputs": [
    {
     "data": {
      "text/plain": [
       "['Produce', 'Spices and Seasonings']"
      ]
     },
     "execution_count": 117,
     "metadata": {},
     "output_type": "execute_result"
    }
   ],
   "source": [
    "aisledict['parsley']"
   ]
  },
  {
   "cell_type": "code",
   "execution_count": null,
   "metadata": {},
   "outputs": [],
   "source": []
  }
 ],
 "metadata": {
  "kernelspec": {
   "display_name": "Python 3",
   "language": "python",
   "name": "python3"
  },
  "language_info": {
   "codemirror_mode": {
    "name": "ipython",
    "version": 3
   },
   "file_extension": ".py",
   "mimetype": "text/x-python",
   "name": "python",
   "nbconvert_exporter": "python",
   "pygments_lexer": "ipython3",
   "version": "3.6.10"
  }
 },
 "nbformat": 4,
 "nbformat_minor": 4
}
