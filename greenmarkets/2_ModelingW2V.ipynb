{
 "cells": [
  {
   "cell_type": "markdown",
   "metadata": {},
   "source": [
    "# Word2Vec modeling"
   ]
  },
  {
   "cell_type": "code",
   "execution_count": 7,
   "metadata": {},
   "outputs": [],
   "source": [
    "from gensim.models import word2vec\n",
    "import pickle\n"
   ]
  },
  {
   "cell_type": "code",
   "execution_count": 8,
   "metadata": {},
   "outputs": [],
   "source": [
    "nning = pickle.load(open(\"generated_data/cleaned_ingredients.pkl\", 'rb'))\n"
   ]
  },
  {
   "cell_type": "code",
   "execution_count": 9,
   "metadata": {},
   "outputs": [],
   "source": [
    "#Actual W2V modeling\n",
    "# Set values for NN parameters\n",
    "num_features = 300    # Word vector dimensionality                      \n",
    "min_word_count = 3    # 50% of the corpus                    \n",
    "num_workers = 4       # Number of CPUs\n",
    "context = 10          # Context window size; \n",
    "downsampling = 1e-3   # threshold for configuring which \n",
    "                    # higher-frequency words are randomly downsampled\n",
    "\n",
    "# Initialize and train the model \n",
    "model = word2vec.Word2Vec(nning, workers=num_workers, size=num_features, min_count = min_word_count, window = context, sample = downsampling)\n",
    "\n",
    "# If you don't plan to train the model any further, calling \n",
    "# init_sims will make the model much more memory-efficient.\n",
    "model.init_sims(replace=True)"
   ]
  },
  {
   "cell_type": "code",
   "execution_count": 10,
   "metadata": {},
   "outputs": [],
   "source": [
    "pickle.dump(model,open(\"generated_data/model_w2v.pkl\",\"wb\"))\n"
   ]
  },
  {
   "cell_type": "code",
   "execution_count": 26,
   "metadata": {},
   "outputs": [
    {
     "name": "stdout",
     "output_type": "stream",
     "text": [
      "[('mozarella', 0.9948236346244812), ('parmesean', 0.9939827919006348), ('mozzarella cheese oz', 0.9911444187164307), ('lowfat mozzarella cheese', 0.9900532960891724), ('jar marinara sauce', 0.9900408983230591), ('reducedfat mozzarella cheese', 0.9891449213027954), ('tomatoes sauce', 0.9883965253829956), ('part skim mozzarella', 0.9879448413848877), ('eggplant pound', 0.9873771667480469), ('tomatoes basil', 0.986924946308136), ('nonfat cottage cheese', 0.9859980344772339), ('baby bella mushrooms', 0.9857878088951111), ('mozerella cheese', 0.9856413006782532), ('spaghetti sauce oz', 0.9854722023010254), ('ounces partskim mozzarella cheese', 0.9851009845733643), ('mozzarella cheese ounces', 0.9848102331161499), ('seasoned tomatoes', 0.9847155213356018), ('low fat mozzarella cheese', 0.9844580888748169), ('mild sausage', 0.9842929840087891), ('andor peppers', 0.9841870665550232), ('prego sauce', 0.9839493036270142), ('mozzerella', 0.9838513731956482), ('pepperoncini peppers', 0.9836661219596863), ('part skim ricotta', 0.9835087060928345), ('breakfast sausage', 0.9833247661590576), ('low fat ricotta cheese', 0.9825112223625183), ('egg beaters egg', 0.982471227645874), ('sausage links', 0.9813817739486694), ('leaf spinach', 0.9812490344047546), ('tomato basil pasta sauce', 0.9809789657592773), ('oz jar marinara sauce', 0.9808833599090576), ('herb seasoning pink himalayan salt', 0.9807568192481995), ('ziti pasta', 0.9802671670913696), ('zucchine', 0.9801100492477417), ('portabella mushrooms', 0.9801074266433716), ('mortadella', 0.9796394109725952), ('hoagie rolls', 0.979357123374939), ('style tomatoes', 0.9792271256446838), ('turkey sausage links', 0.9790353775024414), ('noboil lasagna noodles', 0.9787747859954834), ('container ricotta cheese', 0.9784333109855652), ('package baby spinach', 0.9782607555389404), ('roasted garlic', 0.9782125949859619), ('fatfree parmesan cheese', 0.9781575202941895), ('ragu', 0.9781381487846375), ('salt added tomato sauce', 0.9780412912368774), ('egg substitute', 0.9778675436973572), ('pepperidge farm herb seasoned stuffing', 0.9771760702133179), ('pepperonchinis', 0.9770998358726501), ('herb seasoning', 0.9770877361297607)]\n"
     ]
    }
   ],
   "source": [
    "#just a lil proof o concept\n",
    "print(model.wv.most_similar('small zucchini', topn=50))\n"
   ]
  },
  {
   "cell_type": "code",
   "execution_count": null,
   "metadata": {},
   "outputs": [],
   "source": []
  }
 ],
 "metadata": {
  "kernelspec": {
   "display_name": "Python 3",
   "language": "python",
   "name": "python3"
  },
  "language_info": {
   "codemirror_mode": {
    "name": "ipython",
    "version": 3
   },
   "file_extension": ".py",
   "mimetype": "text/x-python",
   "name": "python",
   "nbconvert_exporter": "python",
   "pygments_lexer": "ipython3",
   "version": "3.6.10"
  }
 },
 "nbformat": 4,
 "nbformat_minor": 4
}
