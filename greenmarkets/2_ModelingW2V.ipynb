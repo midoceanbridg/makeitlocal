{
 "cells": [
  {
   "cell_type": "markdown",
   "metadata": {},
   "source": [
    "# Word2Vec modeling"
   ]
  },
  {
   "cell_type": "code",
   "execution_count": 7,
   "metadata": {},
   "outputs": [],
   "source": [
    "from gensim.models import word2vec\n",
    "import pickle\n"
   ]
  },
  {
   "cell_type": "code",
   "execution_count": 35,
   "metadata": {},
   "outputs": [],
   "source": [
    "nning = pickle.load(open(\"eatlocal/generated_data/cleaned_ingredients.pkl\", 'rb'))\n"
   ]
  },
  {
   "cell_type": "code",
   "execution_count": 36,
   "metadata": {},
   "outputs": [],
   "source": [
    "#Actual W2V modeling\n",
    "# Set values for NN parameters\n",
    "num_features = 300    # Word vector dimensionality                      \n",
    "min_word_count = 3    # 50% of the corpus                    \n",
    "num_workers = 4       # Number of CPUs\n",
    "context = 10          # Context window size; \n",
    "downsampling = 1e-3   # threshold for configuring which \n",
    "                    # higher-frequency words are randomly downsampled\n",
    "\n",
    "# Initialize and train the model \n",
    "model = word2vec.Word2Vec(nning, workers=num_workers, size=num_features, min_count = min_word_count, window = context, sample = downsampling)\n",
    "\n",
    "# If you don't plan to train the model any further, calling \n",
    "# init_sims will make the model much more memory-efficient.\n",
    "model.init_sims(replace=True)"
   ]
  },
  {
   "cell_type": "code",
   "execution_count": 37,
   "metadata": {},
   "outputs": [],
   "source": [
    "pickle.dump(model,open(\"eatlocal/generated_data/model_w2v.pkl\",\"wb\"))\n"
   ]
  },
  {
   "cell_type": "code",
   "execution_count": 47,
   "metadata": {},
   "outputs": [
    {
     "name": "stdout",
     "output_type": "stream",
     "text": [
      "[('orange bell pepper', 0.8265299797058105), ('brown rice', 0.7703578472137451), ('beef extra', 0.765189528465271), ('zuccini', 0.7608422040939331), ('uncle ben rice', 0.753818154335022), ('blackeyed pea', 0.7441084980964661), ('grain rice', 0.7384674549102783), ('chicken broth fat free', 0.7383936643600464), ('bean', 0.7229771614074707), ('andouille sausage', 0.7157328724861145), ('goya sazon', 0.707500696182251), ('beef london broil', 0.7027298212051392), ('quinoa brown rice', 0.69330894947052), ('zucchini', 0.6891920566558838), ('chicken breast half boned', 0.6891735792160034), ('stewed tomato', 0.6859893798828125), ('oz coconut milk chaokoh', 0.6854881048202515), ('sazon', 0.6849796772003174), ('tomato juice', 0.681846559047699), ('jalapeno pepper', 0.6765960454940796), ('jalapeno', 0.6762507557868958), ('sugar pea', 0.6715609431266785), ('anaheim chili', 0.6711555123329163), ('salsa verde herdez jar', 0.6703083515167236), ('chicken pork', 0.6643459796905518), ('instant oat', 0.661400318145752), ('squash', 0.6611931324005127), ('vegetable broth low sodium', 0.6578933000564575), ('corn', 0.6505861282348633), ('poblano pepper', 0.6443896293640137), ('bella mushroom', 0.6423425078392029), ('cajun', 0.6418363451957703), ('tonys', 0.6333958506584167), ('longgrain rice', 0.6330543756484985), ('coconut oil cooking spray', 0.6282609701156616), ('vegetable broth', 0.6272989511489868), ('corn kernel', 0.6269176006317139), ('file powder', 0.6254628300666809), ('tomato concentrate', 0.6237592697143555), ('tomato chilies rotel', 0.6198825836181641), ('oz can tomato sauce', 0.6170845031738281), ('garlic onion powder', 0.615646481513977), ('mild chili powder', 0.6144086122512817), ('anaheim pepper', 0.6142854690551758), ('carrot inch strip', 0.6132904291152954), ('roma tomato', 0.6109782457351685), ('riceselect jasmati rice', 0.6080236434936523), ('steak blend', 0.6065065860748291), ('reducedfat provolone cheese', 0.6064223647117615), ('sriracha asian chili sauce', 0.6053845286369324)]\n"
     ]
    }
   ],
   "source": [
    "#just a lil proof o concept\n",
    "print(model.wv.most_similar('bell pepper', topn=50))\n"
   ]
  },
  {
   "cell_type": "code",
   "execution_count": 48,
   "metadata": {},
   "outputs": [
    {
     "data": {
      "text/plain": [
       "[('jalapeno pepper optional', 0.8919177651405334),\n",
       " ('blackeyed pea', 0.8668233156204224),\n",
       " ('zuccini', 0.8600784540176392),\n",
       " ('zucchini round', 0.8396322131156921),\n",
       " ('oz coconut milk chaokoh', 0.8303005695343018),\n",
       " ('poblano pepper', 0.8302625417709351),\n",
       " ('bell pepper', 0.8265299797058105),\n",
       " ('sriracha optional', 0.823467493057251),\n",
       " ('jalapeno chili', 0.8219926357269287),\n",
       " ('oz fireroasted tomato', 0.8205267190933228)]"
      ]
     },
     "execution_count": 48,
     "metadata": {},
     "output_type": "execute_result"
    }
   ],
   "source": [
    "model.wv.most_similar('orange bell pepper')"
   ]
  },
  {
   "cell_type": "code",
   "execution_count": null,
   "metadata": {},
   "outputs": [],
   "source": []
  },
  {
   "cell_type": "code",
   "execution_count": null,
   "metadata": {},
   "outputs": [],
   "source": []
  }
 ],
 "metadata": {
  "kernelspec": {
   "display_name": "Python 3",
   "language": "python",
   "name": "python3"
  },
  "language_info": {
   "codemirror_mode": {
    "name": "ipython",
    "version": 3
   },
   "file_extension": ".py",
   "mimetype": "text/x-python",
   "name": "python",
   "nbconvert_exporter": "python",
   "pygments_lexer": "ipython3",
   "version": "3.6.10"
  }
 },
 "nbformat": 4,
 "nbformat_minor": 4
}
