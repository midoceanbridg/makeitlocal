{
 "cells": [
  {
   "cell_type": "markdown",
   "metadata": {},
   "source": [
    "# Word2Vec modeling"
   ]
  },
  {
   "cell_type": "code",
   "execution_count": 7,
   "metadata": {},
   "outputs": [],
   "source": [
    "from gensim.models import word2vec\n",
    "import pickle\n"
   ]
  },
  {
   "cell_type": "code",
   "execution_count": 8,
   "metadata": {},
   "outputs": [],
   "source": [
    "nning = pickle.load(open(\"generated_data/cleaned_ingredients.pkl\", 'rb'))\n"
   ]
  },
  {
   "cell_type": "code",
   "execution_count": 9,
   "metadata": {},
   "outputs": [],
   "source": [
    "#Actual W2V modeling\n",
    "# Set values for NN parameters\n",
    "num_features = 300    # Word vector dimensionality                      \n",
    "min_word_count = 3    # 50% of the corpus                    \n",
    "num_workers = 4       # Number of CPUs\n",
    "context = 10          # Context window size; \n",
    "downsampling = 1e-3   # threshold for configuring which \n",
    "                    # higher-frequency words are randomly downsampled\n",
    "\n",
    "# Initialize and train the model \n",
    "model = word2vec.Word2Vec(nning, workers=num_workers, size=num_features, min_count = min_word_count, window = context, sample = downsampling)\n",
    "\n",
    "# If you don't plan to train the model any further, calling \n",
    "# init_sims will make the model much more memory-efficient.\n",
    "model.init_sims(replace=True)"
   ]
  },
  {
   "cell_type": "code",
   "execution_count": 10,
   "metadata": {},
   "outputs": [],
   "source": [
    "pickle.dump(model,open(\"generated_data/model_w2v.pkl\",\"wb\"))\n"
   ]
  },
  {
   "cell_type": "code",
   "execution_count": 11,
   "metadata": {},
   "outputs": [
    {
     "name": "stdout",
     "output_type": "stream",
     "text": [
      "[('spinach leaves', 0.9903091192245483), ('vineripened tomatoes', 0.9884827733039856), ('parmigiano reggiano romano', 0.9861250519752502), ('crusty bread', 0.9845693111419678), ('oregano sprigs', 0.9832617044448853), ('arugula', 0.9823907613754272), ('anchovy', 0.9812184572219849), ('orzo pasta', 0.9803988933563232), ('ciabatta', 0.9801723957061768), ('package penne pasta', 0.9798829555511475), ('bunch kale', 0.9793539047241211), ('package artichoke hearts', 0.9782979488372803), ('basil parsley', 0.9782734513282776), ('shrimp medium', 0.9782109260559082), ('baby spinach leaves', 0.9781423807144165), ('partskim mozzarella', 0.9778398275375366), ('halloumi', 0.9777125120162964), ('marinated artichoke hearts', 0.9775030016899109), ('spicy sausage', 0.9769537448883057), ('pecorino romano cheese', 0.9766588807106018), ('escarole', 0.9766465425491333), ('artichokes', 0.976645827293396), ('egg pasta', 0.9762446284294128), ('sundried tomato', 0.9755333662033081), ('gorgonzola dolce', 0.9755257368087769), ('basil garnish', 0.9753382802009583), ('penne', 0.9751760363578796), ('pecorino', 0.9750567674636841), ('freshly parmesan', 0.9729530215263367), ('pecorino romano', 0.9726145267486572), ('potato gnocchi', 0.9715932607650757), ('small capers', 0.9713277220726013), ('baby arugula', 0.9712713956832886), ('package baby spinach', 0.9709430932998657), ('orzo', 0.9708232283592224), ('wheat pasta', 0.9704427123069763), ('wheat penne', 0.9701001644134521), ('sprigs oregano', 0.9700919985771179), ('heirloom tomatoes', 0.9698031544685364), ('oil cured olives', 0.9696494340896606), ('sun tomatoes oil', 0.9692867994308472), ('solid tuna water', 0.969232439994812), ('portobello mushrooms', 0.9688549637794495), ('broccoli rabe', 0.9687508344650269), ('greek seasoning', 0.9682941436767578), ('pepperoncini', 0.9673862457275391), ('coarse salt pepper', 0.9670317769050598), ('tortellini', 0.966992199420929), ('freshly parmigianoreggiano', 0.9669396281242371), ('anchovy filets', 0.966684103012085)]\n"
     ]
    }
   ],
   "source": [
    "#just a lil proof o concept\n",
    "print(model.wv.most_similar('feta', topn=50))\n"
   ]
  },
  {
   "cell_type": "code",
   "execution_count": null,
   "metadata": {},
   "outputs": [],
   "source": []
  }
 ],
 "metadata": {
  "kernelspec": {
   "display_name": "Python 3",
   "language": "python",
   "name": "python3"
  },
  "language_info": {
   "codemirror_mode": {
    "name": "ipython",
    "version": 3
   },
   "file_extension": ".py",
   "mimetype": "text/x-python",
   "name": "python",
   "nbconvert_exporter": "python",
   "pygments_lexer": "ipython3",
   "version": "3.6.10"
  }
 },
 "nbformat": 4,
 "nbformat_minor": 4
}
