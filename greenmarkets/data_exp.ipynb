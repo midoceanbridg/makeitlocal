{
 "cells": [
  {
   "cell_type": "code",
   "execution_count": 7,
   "metadata": {},
   "outputs": [],
   "source": [
    "import pandas as pd\n",
    "import json\n",
    "from pathlib import Path"
   ]
  },
  {
   "cell_type": "code",
   "execution_count": 56,
   "metadata": {},
   "outputs": [],
   "source": [
    "recipes = []\n",
    "ingredients = []\n",
    "path = Path('~/Dropbox/Not_work/insight/greenmarkets/bigoven/maindish/')\n",
    "for po in path.expanduser().glob('*.json'):\n",
    "    with po.open() as fh:\n",
    "        r = json.load(fh)\n",
    "        recipes.append(r)\n",
    "        ing = r.get('Ingredients')\n",
    "        if ing is not None:\n",
    "            ingredients.append([i['Name'] for i in ing if i is not None])\n"
   ]
  },
  {
   "cell_type": "code",
   "execution_count": 57,
   "metadata": {},
   "outputs": [],
   "source": [
    "ing = pd.DataFrame(ingredients)"
   ]
  },
  {
   "cell_type": "code",
   "execution_count": 58,
   "metadata": {},
   "outputs": [],
   "source": [
    "rec = pd.DataFrame(recipes)   "
   ]
  },
  {
   "cell_type": "code",
   "execution_count": 76,
   "metadata": {},
   "outputs": [
    {
     "name": "stdout",
     "output_type": "stream",
     "text": [
      "0                      water\n",
      "1      unrefined coconut oil\n",
      "2               large shrimp\n",
      "3                     quinoa\n",
      "4       Wild Sockeye Salmon \n",
      "               ...          \n",
      "976               Sesame Oil\n",
      "977    whole peeled tomatoes\n",
      "978                   Butter\n",
      "979                    water\n",
      "980              olive oil  \n",
      "Name: 0, Length: 981, dtype: object\n",
      "0                                      sugar\n",
      "1      frozen mixed veggies (I used broccoli\n",
      "2                               sea scallops\n",
      "3             water/low-sodium chicken stock\n",
      "4                     Extra Virgin Olive Oil\n",
      "                       ...                  \n",
      "976                                      Egg\n",
      "977                                Olive oil\n",
      "978                 Olive oil, extra virgin \n",
      "979                       coarse kosher salt\n",
      "980                             fresh basil \n",
      "Name: 1, Length: 981, dtype: object\n",
      "0       raspberry balsamic vinegar\n",
      "1                     fresh ginger\n",
      "2               sun-dried tomatoes\n",
      "3                            onion\n",
      "4      Salt & Fresh Cracked Pepper\n",
      "                  ...             \n",
      "976      Crushed red pepper flakes\n",
      "977                  Dried oregano\n",
      "978                         Garlic\n",
      "979                          sugar\n",
      "980                 firm whitefish\n",
      "Name: 2, Length: 981, dtype: object\n",
      "0                 lemon juice\n",
      "1           Red pepper flakes\n",
      "2      button fresh mushrooms\n",
      "3                     Carrots\n",
      "4                        None\n",
      "                ...          \n",
      "976           Red bell pepper\n",
      "977               Dried basil\n",
      "978                    shrimp\n",
      "979    bone-in rib pork chops\n",
      "980                    Garlic\n",
      "Name: 3, Length: 981, dtype: object\n",
      "0       chambord raspberry liqueur\n",
      "1                     sesame seeds\n",
      "2                   fresh broccoli\n",
      "3                        Scallions\n",
      "4                             None\n",
      "                  ...             \n",
      "976                     Fresh tuna\n",
      "977                    Kosher Salt\n",
      "978                       Tequila \n",
      "979    Freshly ground black pepper\n",
      "980                         onion \n",
      "Name: 4, Length: 981, dtype: object\n",
      "0                 fresh raspberries\n",
      "1           cooked quinoa (leftover\n",
      "2              heavy whipping cream\n",
      "3                     Garlic cloves\n",
      "4                              None\n",
      "                   ...             \n",
      "976               Panko breadcrumbs\n",
      "977            Ground black pepper \n",
      "978                           lime \n",
      "979    Vegetable oil for grill rack\n",
      "980              resh plum tomatoes\n",
      "Name: 5, Length: 981, dtype: object\n",
      "0                                    cornstarch\n",
      "1                         vegan teriyaki sauce \n",
      "2                        grated parmesan cheese\n",
      "3                                  Fresh ginger\n",
      "4                                          None\n",
      "                         ...                   \n",
      "976                                        None\n",
      "977                                 Pizza dough\n",
      "978                                        Salt\n",
      "979    liquid from Sweet and Tangy Peach Relish\n",
      "980                             fresh oregano  \n",
      "Name: 6, Length: 981, dtype: object\n",
      "0                      fresh salmon\n",
      "1                    fresh cilantro\n",
      "2                     garlic cloves\n",
      "3                         Olive oil\n",
      "4                              None\n",
      "                   ...             \n",
      "976                            None\n",
      "977                 shredded cheese\n",
      "978                    Chili Powder\n",
      "979    Sweet and Tangy Peach Relish\n",
      "980                         sugar  \n",
      "Name: 7, Length: 981, dtype: object\n",
      "0            chinese hot mustard\n",
      "1                           None\n",
      "2                  chopped onion\n",
      "3                           eggs\n",
      "4                           None\n",
      "                 ...            \n",
      "976                         None\n",
      "977                    Pepperoni\n",
      "978                     Cilantro\n",
      "979    Recipe by Elizabeth Green\n",
      "980          red pepper flakes  \n",
      "Name: 8, Length: 981, dtype: object\n",
      "0         vegetable oil\n",
      "1                  None\n",
      "2         garlic powder\n",
      "3           Frozen Peas\n",
      "4                  None\n",
      "             ...       \n",
      "976                None\n",
      "977    Jalapeno peppers\n",
      "978                None\n",
      "979                None\n",
      "980                    \n",
      "Name: 9, Length: 981, dtype: object\n"
     ]
    }
   ],
   "source": [
    "for i in range(10):\n",
    "    print(ing[i])\n",
    "\n",
    "# ing['new'] = ing.sum(axis=1).astype(int).astype(str)\n",
    "# ing['new']"
   ]
  },
  {
   "cell_type": "code",
   "execution_count": 60,
   "metadata": {},
   "outputs": [],
   "source": [
    "from collections import Counter\n",
    "import numpy as np\n",
    "import matplotlib.pyplot as plt"
   ]
  },
  {
   "cell_type": "code",
   "execution_count": 61,
   "metadata": {},
   "outputs": [],
   "source": [
    "counts = Counter(ing)\n",
    "\n",
    "labels, values = zip(*counts.items())"
   ]
  },
  {
   "cell_type": "code",
   "execution_count": 62,
   "metadata": {},
   "outputs": [
    {
     "data": {
      "image/png": "[encoded data removed]",
      "text/plain": [
       "<Figure size 432x288 with 1 Axes>"
      ]
     },
     "metadata": {
      "needs_background": "light"
     },
     "output_type": "display_data"
    }
   ],
   "source": [
    "# sort your values in descending order\n",
    "indSort = np.argsort(values)[::-1]\n",
    "\n",
    "# rearrange your data\n",
    "labels = np.array(labels)[indSort]\n",
    "values = np.array(values)[indSort]\n",
    "\n",
    "indexes = np.arange(len(labels))\n",
    "\n",
    "bar_width = 0.35\n",
    "\n",
    "plt.bar(indexes, values)\n",
    "\n",
    "# add labels\n",
    "plt.xticks(indexes + bar_width, labels)\n",
    "plt.show()"
   ]
  },
  {
   "cell_type": "code",
   "execution_count": 69,
   "metadata": {},
   "outputs": [],
   "source": [
    "counts = dict(Counter(ing).most_common(1))"
   ]
  },
  {
   "cell_type": "code",
   "execution_count": 70,
   "metadata": {},
   "outputs": [
    {
     "data": {
      "text/plain": [
       "{0: 1}"
      ]
     },
     "execution_count": 70,
     "metadata": {},
     "output_type": "execute_result"
    }
   ],
   "source": [
    "counts"
   ]
  },
  {
   "cell_type": "code",
   "execution_count": null,
   "metadata": {},
   "outputs": [],
   "source": []
  }
 ],
 "metadata": {
  "kernelspec": {
   "display_name": "Python 3",
   "language": "python",
   "name": "python3"
  },
  "language_info": {
   "codemirror_mode": {
    "name": "ipython",
    "version": 3
   },
   "file_extension": ".py",
   "mimetype": "text/x-python",
   "name": "python",
   "nbconvert_exporter": "python",
   "pygments_lexer": "ipython3",
   "version": "3.6.10"
  }
 },
 "nbformat": 4,
 "nbformat_minor": 4
}
